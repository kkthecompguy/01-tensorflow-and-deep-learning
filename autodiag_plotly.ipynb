{
 "cells": [
  {
   "cell_type": "code",
   "execution_count": 1,
   "metadata": {},
   "outputs": [],
   "source": [
    "import json"
   ]
  },
  {
   "cell_type": "code",
   "execution_count": 2,
   "metadata": {},
   "outputs": [],
   "source": [
    "with open(\"autodiag_report.json\", \"r\") as f:\n",
    "    d = json.load(f)"
   ]
  },
  {
   "cell_type": "code",
   "execution_count": 3,
   "metadata": {},
   "outputs": [],
   "source": [
    "series = d['data']['sensors']"
   ]
  },
  {
   "cell_type": "code",
   "execution_count": 4,
   "metadata": {},
   "outputs": [
    {
     "data": {
      "text/plain": [
       "1675716436.1571245"
      ]
     },
     "execution_count": 4,
     "metadata": {},
     "output_type": "execute_result"
    }
   ],
   "source": [
    "series_list = []\n",
    "for k, v in series.items():\n",
    "    series_list.append((k, v[0][0], v))\n",
    "sorted_series = sorted(series_list, key=lambda x: x[1]) # sorts by first timestamp\n",
    "min_t = sorted_series[0][1]\n",
    "\n",
    "min_t"
   ]
  },
  {
   "cell_type": "code",
   "execution_count": 5,
   "metadata": {},
   "outputs": [
    {
     "data": {
      "text/plain": [
       "[('state_pre_extend_move',\n",
       "  0.0,\n",
       "  [[0.0,\n",
       "    {'vac': -35.3960911136108,\n",
       "     'touch': 5.234863281249999,\n",
       "     'finger': 0.2548828125}],\n",
       "   [0.006159782409667969,\n",
       "    {'vac': -35.3960911136108,\n",
       "     'touch': 5.531494140624999,\n",
       "     'finger': 0.2548828125}],\n",
       "   [0.006492137908935547,\n",
       "    {'vac': -35.83548931383577,\n",
       "     'touch': 5.828124999999999,\n",
       "     'finger': 0.2548828125}]]),\n",
       " ('state_extend',\n",
       "  0.2306511402130127,\n",
       "  [[0.2306511402130127,\n",
       "    {'vac': -98.01033464566929,\n",
       "     'touch': 2.015869140625,\n",
       "     'finger': 1.3623046875}],\n",
       "   [0.2348482608795166,\n",
       "    {'vac': -98.01033464566929, 'touch': 2.3125, 'finger': 1.43701171875}],\n",
       "   [0.250978946685791,\n",
       "    {'vac': -97.90048509561304,\n",
       "     'touch': 2.0048828125,\n",
       "     'finger': 1.56005859375}]]),\n",
       " ('state_wait_fingers_settled',\n",
       "  0.5282332897186279,\n",
       "  [[0.5282332897186279,\n",
       "    {'vac': -98.01033464566929, 'touch': 2.13671875, 'finger': 1.845703125}],\n",
       "   [0.6285545825958252,\n",
       "    {'vac': -98.01033464566929,\n",
       "     'touch': 2.11474609375,\n",
       "     'finger': 1.845703125}],\n",
       "   [0.7292888164520264,\n",
       "    {'vac': -98.01033464566929, 'touch': 2.13671875, 'finger': 1.845703125}]]),\n",
       " ('state_get_finger_data',\n",
       "  2.5282039642333984,\n",
       "  [[2.5282039642333984,\n",
       "    {'vac': -98.01033464566929,\n",
       "     'touch': 2.20263671875,\n",
       "     'finger': 1.845703125}],\n",
       "   [2.6287426948547363,\n",
       "    {'vac': -97.90048509561304,\n",
       "     'touch': 2.20263671875,\n",
       "     'finger': 1.845703125}],\n",
       "   [2.7282938957214355,\n",
       "    {'vac': -98.01033464566929,\n",
       "     'touch': 2.20263671875,\n",
       "     'finger': 1.845703125}]]),\n",
       " ('state_retract',\n",
       "  3.4022774696350098,\n",
       "  [[3.4022774696350098,\n",
       "    {'vac': -98.01033464566929,\n",
       "     'touch': 1.93896484375,\n",
       "     'finger': 1.8017578125}],\n",
       "   [3.4281022548675537,\n",
       "    {'vac': -97.90048509561304,\n",
       "     'touch': 1.927978515625,\n",
       "     'finger': 1.8017578125}],\n",
       "   [3.5291218757629395,\n",
       "    {'vac': -98.01033464566929,\n",
       "     'touch': 1.971923828125,\n",
       "     'finger': 1.8017578125}]]),\n",
       " ('state_close_schnoz_gap',\n",
       "  3.899667739868164,\n",
       "  [[3.899667739868164,\n",
       "    {'vac': -98.01033464566929,\n",
       "     'touch': 0.48876953124999994,\n",
       "     'finger': 1.8017578125}],\n",
       "   [3.9285147190093994,\n",
       "    {'vac': -98.01033464566929,\n",
       "     'touch': 0.42285156249999994,\n",
       "     'finger': 1.8017578125}],\n",
       "   [3.944502115249634,\n",
       "    {'vac': -98.01033464566929,\n",
       "     'touch': 0.36791992187499994,\n",
       "     'finger': 1.8017578125}]]),\n",
       " ('state_wait_vac_start',\n",
       "  4.04777455329895,\n",
       "  [[4.04777455329895,\n",
       "    {'vac': -29.354365860517436,\n",
       "     'touch': 4.88330078125,\n",
       "     'finger': 1.8017578125}],\n",
       "   [4.055134057998657,\n",
       "    {'vac': -30.013463160854894, 'touch': 4.7734375, 'finger': 1.8017578125}],\n",
       "   [4.072663068771362,\n",
       "    {'vac': -30.892259561304837,\n",
       "     'touch': 4.5537109375,\n",
       "     'finger': 1.8017578125}]]),\n",
       " ('state_vac_pull',\n",
       "  6.728764057159424,\n",
       "  [[6.728764057159424,\n",
       "    {'vac': -97.7906355455568,\n",
       "     'touch': 2.99365234375,\n",
       "     'finger': 1.8017578125}],\n",
       "   [6.828249216079712,\n",
       "    {'vac': -97.68078599550056,\n",
       "     'touch': 2.99365234375,\n",
       "     'finger': 1.8017578125}],\n",
       "   [6.9286887645721436,\n",
       "    {'vac': -97.7906355455568,\n",
       "     'touch': 3.048583984375,\n",
       "     'finger': 1.8017578125}]]),\n",
       " ('state_wait_empty_fingers_settled',\n",
       "  6.960143804550171,\n",
       "  [[6.960143804550171,\n",
       "    {'vac': -97.7906355455568,\n",
       "     'touch': 3.114501953125,\n",
       "     'finger': 1.8017578125}],\n",
       "   [6.9640820026397705,\n",
       "    {'vac': -97.7906355455568,\n",
       "     'touch': 3.38916015625,\n",
       "     'finger': 1.8017578125}],\n",
       "   [6.965144157409668,\n",
       "    {'vac': -98.01033464566929,\n",
       "     'touch': 3.56494140625,\n",
       "     'finger': 1.8017578125}]]),\n",
       " ('state_exit_tray_zone',\n",
       "  7.7150022983551025,\n",
       "  [[7.7150022983551025,\n",
       "    {'vac': -98.01033464566929, 'touch': 2.3125, 'finger': 0.45263671875}],\n",
       "   [7.728471279144287,\n",
       "    {'vac': -98.01033464566929, 'touch': 2.3125, 'finger': 0.45263671875}],\n",
       "   [7.73173713684082,\n",
       "    {'vac': -98.01033464566929,\n",
       "     'touch': 1.290771484375,\n",
       "     'finger': 0.45263671875}]])]"
      ]
     },
     "execution_count": 5,
     "metadata": {},
     "output_type": "execute_result"
    }
   ],
   "source": [
    "for ind,(i, j, k) in enumerate(sorted_series):\n",
    "    j = j - min_t\n",
    "    k = [[kk[0] - min_t, kk[1]] for kk in k]\n",
    "    sorted_series[ind] = (i, j, k)\n",
    "\n",
    "sorted_series"
   ]
  },
  {
   "cell_type": "code",
   "execution_count": 6,
   "metadata": {},
   "outputs": [
    {
     "name": "stdout",
     "output_type": "stream",
     "text": [
      "(Vacuum) Min: -98.01033464566929 | Max: -29.354365860517436\n",
      "(Finger) Min: 0.2548828125 | Max: 1.845703125\n",
      "(Touch) Min: 0.36791992187499994 | Max: 5.828124999999999\n"
     ]
    }
   ],
   "source": [
    "# get y_0 and y_1 per state\n",
    "def get_min_max(sensor, series):\n",
    "    minv = min([min([x[1][sensor] for x in k[2]]) for k in series])\n",
    "    maxv = max([max([x[1][sensor] for x in k[2]]) for k in series])\n",
    "    return minv, maxv\n",
    "\n",
    "\n",
    "# These will be y0 and y1 for the rectangles depending on the sensor\n",
    "min_vac, max_vac = get_min_max('vac', sorted_series)\n",
    "min_touch, max_touch = get_min_max('touch', sorted_series)\n",
    "min_fing, max_fing = get_min_max('finger', sorted_series)\n",
    "print(f\"(Vacuum) Min: {min_vac} | Max: {max_vac}\")\n",
    "print(f\"(Finger) Min: {min_fing} | Max: {max_fing}\")\n",
    "print(f\"(Touch) Min: {min_touch} | Max: {max_touch}\") "
   ]
  },
  {
   "cell_type": "code",
   "execution_count": 7,
   "metadata": {},
   "outputs": [
    {
     "data": {
      "text/plain": [
       "[{'state': 'state_pre_extend_move', 'x0': 0.0, 'x1': 0.2306511402130127},\n",
       " {'state': 'state_extend', 'x0': 0.2306511402130127, 'x1': 0.5282332897186279},\n",
       " {'state': 'state_wait_fingers_settled',\n",
       "  'x0': 0.5282332897186279,\n",
       "  'x1': 2.5282039642333984},\n",
       " {'state': 'state_get_finger_data',\n",
       "  'x0': 2.5282039642333984,\n",
       "  'x1': 3.4022774696350098},\n",
       " {'state': 'state_retract', 'x0': 3.4022774696350098, 'x1': 3.899667739868164},\n",
       " {'state': 'state_close_schnoz_gap',\n",
       "  'x0': 3.899667739868164,\n",
       "  'x1': 4.04777455329895},\n",
       " {'state': 'state_wait_vac_start',\n",
       "  'x0': 4.04777455329895,\n",
       "  'x1': 6.728764057159424},\n",
       " {'state': 'state_vac_pull', 'x0': 6.728764057159424, 'x1': 6.960143804550171},\n",
       " {'state': 'state_wait_empty_fingers_settled',\n",
       "  'x0': 6.960143804550171,\n",
       "  'x1': 7.7150022983551025},\n",
       " {'state': 'state_exit_tray_zone',\n",
       "  'x0': 7.7150022983551025,\n",
       "  'x1': 7.73173713684082}]"
      ]
     },
     "execution_count": 7,
     "metadata": {},
     "output_type": "execute_result"
    }
   ],
   "source": [
    "# build rectangles. x0 and x1 will be the same for all sensors\n",
    "rect_list = []\n",
    "for ind, (state, t_0, t_series) in enumerate(sorted_series):\n",
    "    rect = {\n",
    "        \"state\": state,\n",
    "        \"x0\": t_0,\n",
    "    }\n",
    "    try:\n",
    "        rect[\"x1\"] = sorted_series[ind + 1][1] # t0 of next state\n",
    "    except IndexError:\n",
    "        rect[\"x1\"] = sorted_series[ind][2][-1][0] # The last timestamp\n",
    "    rect_list.append(rect)\n",
    "\n",
    "rect_list\n"
   ]
  },
  {
   "cell_type": "code",
   "execution_count": 12,
   "metadata": {},
   "outputs": [
    {
     "data": {
      "application/vnd.plotly.v1+json": {
       "config": {
        "plotlyServerURL": "https://plot.ly"
       },
       "data": [
        {
         "line": {
          "width": 3
         },
         "name": "Touch",
         "type": "scatter",
         "x": [
          0,
          0.006159782409667969,
          0.006492137908935547,
          0.2306511402130127,
          0.2348482608795166,
          0.250978946685791,
          0.5282332897186279,
          0.6285545825958252,
          0.7292888164520264,
          2.5282039642333984,
          2.6287426948547363,
          2.7282938957214355,
          3.4022774696350098,
          3.4281022548675537,
          3.5291218757629395,
          3.899667739868164,
          3.9285147190093994,
          3.944502115249634,
          4.04777455329895,
          4.055134057998657,
          4.072663068771362,
          6.728764057159424,
          6.828249216079712,
          6.9286887645721436,
          6.960143804550171,
          6.9640820026397705,
          6.965144157409668,
          7.7150022983551025,
          7.728471279144287,
          7.73173713684082
         ],
         "y": [
          5.234863281249999,
          5.531494140624999,
          5.828124999999999,
          2.015869140625,
          2.3125,
          2.0048828125,
          2.13671875,
          2.11474609375,
          2.13671875,
          2.20263671875,
          2.20263671875,
          2.20263671875,
          1.93896484375,
          1.927978515625,
          1.971923828125,
          0.48876953124999994,
          0.42285156249999994,
          0.36791992187499994,
          4.88330078125,
          4.7734375,
          4.5537109375,
          2.99365234375,
          2.99365234375,
          3.048583984375,
          3.114501953125,
          3.38916015625,
          3.56494140625,
          2.3125,
          2.3125,
          1.290771484375
         ]
        },
        {
         "fill": "toself",
         "name": "state_pre_extend_move",
         "opacity": 0.3,
         "showlegend": false,
         "type": "scatter",
         "x": [
          0,
          0.2306511402130127,
          0.2306511402130127,
          0
         ],
         "y": [
          0.36791992187499994,
          0.36791992187499994,
          5.828124999999999,
          5.828124999999999
         ]
        },
        {
         "fill": "toself",
         "name": "state_extend",
         "opacity": 0.3,
         "showlegend": false,
         "type": "scatter",
         "x": [
          0.2306511402130127,
          0.5282332897186279,
          0.5282332897186279,
          0.2306511402130127
         ],
         "y": [
          0.36791992187499994,
          0.36791992187499994,
          5.828124999999999,
          5.828124999999999
         ]
        },
        {
         "fill": "toself",
         "name": "state_wait_fingers_settled",
         "opacity": 0.3,
         "showlegend": false,
         "type": "scatter",
         "x": [
          0.5282332897186279,
          2.5282039642333984,
          2.5282039642333984,
          0.5282332897186279
         ],
         "y": [
          0.36791992187499994,
          0.36791992187499994,
          5.828124999999999,
          5.828124999999999
         ]
        },
        {
         "fill": "toself",
         "name": "state_get_finger_data",
         "opacity": 0.3,
         "showlegend": false,
         "type": "scatter",
         "x": [
          2.5282039642333984,
          3.4022774696350098,
          3.4022774696350098,
          2.5282039642333984
         ],
         "y": [
          0.36791992187499994,
          0.36791992187499994,
          5.828124999999999,
          5.828124999999999
         ]
        },
        {
         "fill": "toself",
         "name": "state_retract",
         "opacity": 0.3,
         "showlegend": false,
         "type": "scatter",
         "x": [
          3.4022774696350098,
          3.899667739868164,
          3.899667739868164,
          3.4022774696350098
         ],
         "y": [
          0.36791992187499994,
          0.36791992187499994,
          5.828124999999999,
          5.828124999999999
         ]
        },
        {
         "fill": "toself",
         "name": "state_close_schnoz_gap",
         "opacity": 0.3,
         "showlegend": false,
         "type": "scatter",
         "x": [
          3.899667739868164,
          4.04777455329895,
          4.04777455329895,
          3.899667739868164
         ],
         "y": [
          0.36791992187499994,
          0.36791992187499994,
          5.828124999999999,
          5.828124999999999
         ]
        },
        {
         "fill": "toself",
         "name": "state_wait_vac_start",
         "opacity": 0.3,
         "showlegend": false,
         "type": "scatter",
         "x": [
          4.04777455329895,
          6.728764057159424,
          6.728764057159424,
          4.04777455329895
         ],
         "y": [
          0.36791992187499994,
          0.36791992187499994,
          5.828124999999999,
          5.828124999999999
         ]
        },
        {
         "fill": "toself",
         "name": "state_vac_pull",
         "opacity": 0.3,
         "showlegend": false,
         "type": "scatter",
         "x": [
          6.728764057159424,
          6.960143804550171,
          6.960143804550171,
          6.728764057159424
         ],
         "y": [
          0.36791992187499994,
          0.36791992187499994,
          5.828124999999999,
          5.828124999999999
         ]
        },
        {
         "fill": "toself",
         "name": "state_wait_empty_fingers_settled",
         "opacity": 0.3,
         "showlegend": false,
         "type": "scatter",
         "x": [
          6.960143804550171,
          7.7150022983551025,
          7.7150022983551025,
          6.960143804550171
         ],
         "y": [
          0.36791992187499994,
          0.36791992187499994,
          5.828124999999999,
          5.828124999999999
         ]
        },
        {
         "fill": "toself",
         "name": "state_exit_tray_zone",
         "opacity": 0.3,
         "showlegend": false,
         "type": "scatter",
         "x": [
          7.7150022983551025,
          7.73173713684082,
          7.73173713684082,
          7.7150022983551025
         ],
         "y": [
          0.36791992187499994,
          0.36791992187499994,
          5.828124999999999,
          5.828124999999999
         ]
        }
       ],
       "layout": {
        "template": {
         "data": {
          "bar": [
           {
            "error_x": {
             "color": "#2a3f5f"
            },
            "error_y": {
             "color": "#2a3f5f"
            },
            "marker": {
             "line": {
              "color": "#E5ECF6",
              "width": 0.5
             },
             "pattern": {
              "fillmode": "overlay",
              "size": 10,
              "solidity": 0.2
             }
            },
            "type": "bar"
           }
          ],
          "barpolar": [
           {
            "marker": {
             "line": {
              "color": "#E5ECF6",
              "width": 0.5
             },
             "pattern": {
              "fillmode": "overlay",
              "size": 10,
              "solidity": 0.2
             }
            },
            "type": "barpolar"
           }
          ],
          "carpet": [
           {
            "aaxis": {
             "endlinecolor": "#2a3f5f",
             "gridcolor": "white",
             "linecolor": "white",
             "minorgridcolor": "white",
             "startlinecolor": "#2a3f5f"
            },
            "baxis": {
             "endlinecolor": "#2a3f5f",
             "gridcolor": "white",
             "linecolor": "white",
             "minorgridcolor": "white",
             "startlinecolor": "#2a3f5f"
            },
            "type": "carpet"
           }
          ],
          "choropleth": [
           {
            "colorbar": {
             "outlinewidth": 0,
             "ticks": ""
            },
            "type": "choropleth"
           }
          ],
          "contour": [
           {
            "colorbar": {
             "outlinewidth": 0,
             "ticks": ""
            },
            "colorscale": [
             [
              0,
              "#0d0887"
             ],
             [
              0.1111111111111111,
              "#46039f"
             ],
             [
              0.2222222222222222,
              "#7201a8"
             ],
             [
              0.3333333333333333,
              "#9c179e"
             ],
             [
              0.4444444444444444,
              "#bd3786"
             ],
             [
              0.5555555555555556,
              "#d8576b"
             ],
             [
              0.6666666666666666,
              "#ed7953"
             ],
             [
              0.7777777777777778,
              "#fb9f3a"
             ],
             [
              0.8888888888888888,
              "#fdca26"
             ],
             [
              1,
              "#f0f921"
             ]
            ],
            "type": "contour"
           }
          ],
          "contourcarpet": [
           {
            "colorbar": {
             "outlinewidth": 0,
             "ticks": ""
            },
            "type": "contourcarpet"
           }
          ],
          "heatmap": [
           {
            "colorbar": {
             "outlinewidth": 0,
             "ticks": ""
            },
            "colorscale": [
             [
              0,
              "#0d0887"
             ],
             [
              0.1111111111111111,
              "#46039f"
             ],
             [
              0.2222222222222222,
              "#7201a8"
             ],
             [
              0.3333333333333333,
              "#9c179e"
             ],
             [
              0.4444444444444444,
              "#bd3786"
             ],
             [
              0.5555555555555556,
              "#d8576b"
             ],
             [
              0.6666666666666666,
              "#ed7953"
             ],
             [
              0.7777777777777778,
              "#fb9f3a"
             ],
             [
              0.8888888888888888,
              "#fdca26"
             ],
             [
              1,
              "#f0f921"
             ]
            ],
            "type": "heatmap"
           }
          ],
          "heatmapgl": [
           {
            "colorbar": {
             "outlinewidth": 0,
             "ticks": ""
            },
            "colorscale": [
             [
              0,
              "#0d0887"
             ],
             [
              0.1111111111111111,
              "#46039f"
             ],
             [
              0.2222222222222222,
              "#7201a8"
             ],
             [
              0.3333333333333333,
              "#9c179e"
             ],
             [
              0.4444444444444444,
              "#bd3786"
             ],
             [
              0.5555555555555556,
              "#d8576b"
             ],
             [
              0.6666666666666666,
              "#ed7953"
             ],
             [
              0.7777777777777778,
              "#fb9f3a"
             ],
             [
              0.8888888888888888,
              "#fdca26"
             ],
             [
              1,
              "#f0f921"
             ]
            ],
            "type": "heatmapgl"
           }
          ],
          "histogram": [
           {
            "marker": {
             "pattern": {
              "fillmode": "overlay",
              "size": 10,
              "solidity": 0.2
             }
            },
            "type": "histogram"
           }
          ],
          "histogram2d": [
           {
            "colorbar": {
             "outlinewidth": 0,
             "ticks": ""
            },
            "colorscale": [
             [
              0,
              "#0d0887"
             ],
             [
              0.1111111111111111,
              "#46039f"
             ],
             [
              0.2222222222222222,
              "#7201a8"
             ],
             [
              0.3333333333333333,
              "#9c179e"
             ],
             [
              0.4444444444444444,
              "#bd3786"
             ],
             [
              0.5555555555555556,
              "#d8576b"
             ],
             [
              0.6666666666666666,
              "#ed7953"
             ],
             [
              0.7777777777777778,
              "#fb9f3a"
             ],
             [
              0.8888888888888888,
              "#fdca26"
             ],
             [
              1,
              "#f0f921"
             ]
            ],
            "type": "histogram2d"
           }
          ],
          "histogram2dcontour": [
           {
            "colorbar": {
             "outlinewidth": 0,
             "ticks": ""
            },
            "colorscale": [
             [
              0,
              "#0d0887"
             ],
             [
              0.1111111111111111,
              "#46039f"
             ],
             [
              0.2222222222222222,
              "#7201a8"
             ],
             [
              0.3333333333333333,
              "#9c179e"
             ],
             [
              0.4444444444444444,
              "#bd3786"
             ],
             [
              0.5555555555555556,
              "#d8576b"
             ],
             [
              0.6666666666666666,
              "#ed7953"
             ],
             [
              0.7777777777777778,
              "#fb9f3a"
             ],
             [
              0.8888888888888888,
              "#fdca26"
             ],
             [
              1,
              "#f0f921"
             ]
            ],
            "type": "histogram2dcontour"
           }
          ],
          "mesh3d": [
           {
            "colorbar": {
             "outlinewidth": 0,
             "ticks": ""
            },
            "type": "mesh3d"
           }
          ],
          "parcoords": [
           {
            "line": {
             "colorbar": {
              "outlinewidth": 0,
              "ticks": ""
             }
            },
            "type": "parcoords"
           }
          ],
          "pie": [
           {
            "automargin": true,
            "type": "pie"
           }
          ],
          "scatter": [
           {
            "fillpattern": {
             "fillmode": "overlay",
             "size": 10,
             "solidity": 0.2
            },
            "type": "scatter"
           }
          ],
          "scatter3d": [
           {
            "line": {
             "colorbar": {
              "outlinewidth": 0,
              "ticks": ""
             }
            },
            "marker": {
             "colorbar": {
              "outlinewidth": 0,
              "ticks": ""
             }
            },
            "type": "scatter3d"
           }
          ],
          "scattercarpet": [
           {
            "marker": {
             "colorbar": {
              "outlinewidth": 0,
              "ticks": ""
             }
            },
            "type": "scattercarpet"
           }
          ],
          "scattergeo": [
           {
            "marker": {
             "colorbar": {
              "outlinewidth": 0,
              "ticks": ""
             }
            },
            "type": "scattergeo"
           }
          ],
          "scattergl": [
           {
            "marker": {
             "colorbar": {
              "outlinewidth": 0,
              "ticks": ""
             }
            },
            "type": "scattergl"
           }
          ],
          "scattermapbox": [
           {
            "marker": {
             "colorbar": {
              "outlinewidth": 0,
              "ticks": ""
             }
            },
            "type": "scattermapbox"
           }
          ],
          "scatterpolar": [
           {
            "marker": {
             "colorbar": {
              "outlinewidth": 0,
              "ticks": ""
             }
            },
            "type": "scatterpolar"
           }
          ],
          "scatterpolargl": [
           {
            "marker": {
             "colorbar": {
              "outlinewidth": 0,
              "ticks": ""
             }
            },
            "type": "scatterpolargl"
           }
          ],
          "scatterternary": [
           {
            "marker": {
             "colorbar": {
              "outlinewidth": 0,
              "ticks": ""
             }
            },
            "type": "scatterternary"
           }
          ],
          "surface": [
           {
            "colorbar": {
             "outlinewidth": 0,
             "ticks": ""
            },
            "colorscale": [
             [
              0,
              "#0d0887"
             ],
             [
              0.1111111111111111,
              "#46039f"
             ],
             [
              0.2222222222222222,
              "#7201a8"
             ],
             [
              0.3333333333333333,
              "#9c179e"
             ],
             [
              0.4444444444444444,
              "#bd3786"
             ],
             [
              0.5555555555555556,
              "#d8576b"
             ],
             [
              0.6666666666666666,
              "#ed7953"
             ],
             [
              0.7777777777777778,
              "#fb9f3a"
             ],
             [
              0.8888888888888888,
              "#fdca26"
             ],
             [
              1,
              "#f0f921"
             ]
            ],
            "type": "surface"
           }
          ],
          "table": [
           {
            "cells": {
             "fill": {
              "color": "#EBF0F8"
             },
             "line": {
              "color": "white"
             }
            },
            "header": {
             "fill": {
              "color": "#C8D4E3"
             },
             "line": {
              "color": "white"
             }
            },
            "type": "table"
           }
          ]
         },
         "layout": {
          "annotationdefaults": {
           "arrowcolor": "#2a3f5f",
           "arrowhead": 0,
           "arrowwidth": 1
          },
          "autotypenumbers": "strict",
          "coloraxis": {
           "colorbar": {
            "outlinewidth": 0,
            "ticks": ""
           }
          },
          "colorscale": {
           "diverging": [
            [
             0,
             "#8e0152"
            ],
            [
             0.1,
             "#c51b7d"
            ],
            [
             0.2,
             "#de77ae"
            ],
            [
             0.3,
             "#f1b6da"
            ],
            [
             0.4,
             "#fde0ef"
            ],
            [
             0.5,
             "#f7f7f7"
            ],
            [
             0.6,
             "#e6f5d0"
            ],
            [
             0.7,
             "#b8e186"
            ],
            [
             0.8,
             "#7fbc41"
            ],
            [
             0.9,
             "#4d9221"
            ],
            [
             1,
             "#276419"
            ]
           ],
           "sequential": [
            [
             0,
             "#0d0887"
            ],
            [
             0.1111111111111111,
             "#46039f"
            ],
            [
             0.2222222222222222,
             "#7201a8"
            ],
            [
             0.3333333333333333,
             "#9c179e"
            ],
            [
             0.4444444444444444,
             "#bd3786"
            ],
            [
             0.5555555555555556,
             "#d8576b"
            ],
            [
             0.6666666666666666,
             "#ed7953"
            ],
            [
             0.7777777777777778,
             "#fb9f3a"
            ],
            [
             0.8888888888888888,
             "#fdca26"
            ],
            [
             1,
             "#f0f921"
            ]
           ],
           "sequentialminus": [
            [
             0,
             "#0d0887"
            ],
            [
             0.1111111111111111,
             "#46039f"
            ],
            [
             0.2222222222222222,
             "#7201a8"
            ],
            [
             0.3333333333333333,
             "#9c179e"
            ],
            [
             0.4444444444444444,
             "#bd3786"
            ],
            [
             0.5555555555555556,
             "#d8576b"
            ],
            [
             0.6666666666666666,
             "#ed7953"
            ],
            [
             0.7777777777777778,
             "#fb9f3a"
            ],
            [
             0.8888888888888888,
             "#fdca26"
            ],
            [
             1,
             "#f0f921"
            ]
           ]
          },
          "colorway": [
           "#636efa",
           "#EF553B",
           "#00cc96",
           "#ab63fa",
           "#FFA15A",
           "#19d3f3",
           "#FF6692",
           "#B6E880",
           "#FF97FF",
           "#FECB52"
          ],
          "font": {
           "color": "#2a3f5f"
          },
          "geo": {
           "bgcolor": "white",
           "lakecolor": "white",
           "landcolor": "#E5ECF6",
           "showlakes": true,
           "showland": true,
           "subunitcolor": "white"
          },
          "hoverlabel": {
           "align": "left"
          },
          "hovermode": "closest",
          "mapbox": {
           "style": "light"
          },
          "paper_bgcolor": "white",
          "plot_bgcolor": "#E5ECF6",
          "polar": {
           "angularaxis": {
            "gridcolor": "white",
            "linecolor": "white",
            "ticks": ""
           },
           "bgcolor": "#E5ECF6",
           "radialaxis": {
            "gridcolor": "white",
            "linecolor": "white",
            "ticks": ""
           }
          },
          "scene": {
           "xaxis": {
            "backgroundcolor": "#E5ECF6",
            "gridcolor": "white",
            "gridwidth": 2,
            "linecolor": "white",
            "showbackground": true,
            "ticks": "",
            "zerolinecolor": "white"
           },
           "yaxis": {
            "backgroundcolor": "#E5ECF6",
            "gridcolor": "white",
            "gridwidth": 2,
            "linecolor": "white",
            "showbackground": true,
            "ticks": "",
            "zerolinecolor": "white"
           },
           "zaxis": {
            "backgroundcolor": "#E5ECF6",
            "gridcolor": "white",
            "gridwidth": 2,
            "linecolor": "white",
            "showbackground": true,
            "ticks": "",
            "zerolinecolor": "white"
           }
          },
          "shapedefaults": {
           "line": {
            "color": "#2a3f5f"
           }
          },
          "ternary": {
           "aaxis": {
            "gridcolor": "white",
            "linecolor": "white",
            "ticks": ""
           },
           "baxis": {
            "gridcolor": "white",
            "linecolor": "white",
            "ticks": ""
           },
           "bgcolor": "#E5ECF6",
           "caxis": {
            "gridcolor": "white",
            "linecolor": "white",
            "ticks": ""
           }
          },
          "title": {
           "x": 0.05
          },
          "xaxis": {
           "automargin": true,
           "gridcolor": "white",
           "linecolor": "white",
           "ticks": "",
           "title": {
            "standoff": 15
           },
           "zerolinecolor": "white",
           "zerolinewidth": 2
          },
          "yaxis": {
           "automargin": true,
           "gridcolor": "white",
           "linecolor": "white",
           "ticks": "",
           "title": {
            "standoff": 15
           },
           "zerolinecolor": "white",
           "zerolinewidth": 2
          }
         }
        }
       }
      },
      "text/html": [
       "<div>                            <div id=\"eddbd65f-0b78-45a7-b877-14540aee2056\" class=\"plotly-graph-div\" style=\"height:525px; width:100%;\"></div>            <script type=\"text/javascript\">                require([\"plotly\"], function(Plotly) {                    window.PLOTLYENV=window.PLOTLYENV || {};                                    if (document.getElementById(\"eddbd65f-0b78-45a7-b877-14540aee2056\")) {                    Plotly.newPlot(                        \"eddbd65f-0b78-45a7-b877-14540aee2056\",                        [{\"line\":{\"width\":3},\"name\":\"Touch\",\"x\":[0.0,0.006159782409667969,0.006492137908935547,0.2306511402130127,0.2348482608795166,0.250978946685791,0.5282332897186279,0.6285545825958252,0.7292888164520264,2.5282039642333984,2.6287426948547363,2.7282938957214355,3.4022774696350098,3.4281022548675537,3.5291218757629395,3.899667739868164,3.9285147190093994,3.944502115249634,4.04777455329895,4.055134057998657,4.072663068771362,6.728764057159424,6.828249216079712,6.9286887645721436,6.960143804550171,6.9640820026397705,6.965144157409668,7.7150022983551025,7.728471279144287,7.73173713684082],\"y\":[5.234863281249999,5.531494140624999,5.828124999999999,2.015869140625,2.3125,2.0048828125,2.13671875,2.11474609375,2.13671875,2.20263671875,2.20263671875,2.20263671875,1.93896484375,1.927978515625,1.971923828125,0.48876953124999994,0.42285156249999994,0.36791992187499994,4.88330078125,4.7734375,4.5537109375,2.99365234375,2.99365234375,3.048583984375,3.114501953125,3.38916015625,3.56494140625,2.3125,2.3125,1.290771484375],\"type\":\"scatter\"},{\"fill\":\"toself\",\"name\":\"state_pre_extend_move\",\"opacity\":0.3,\"showlegend\":false,\"x\":[0.0,0.2306511402130127,0.2306511402130127,0.0],\"y\":[0.36791992187499994,0.36791992187499994,5.828124999999999,5.828124999999999],\"type\":\"scatter\"},{\"fill\":\"toself\",\"name\":\"state_extend\",\"opacity\":0.3,\"showlegend\":false,\"x\":[0.2306511402130127,0.5282332897186279,0.5282332897186279,0.2306511402130127],\"y\":[0.36791992187499994,0.36791992187499994,5.828124999999999,5.828124999999999],\"type\":\"scatter\"},{\"fill\":\"toself\",\"name\":\"state_wait_fingers_settled\",\"opacity\":0.3,\"showlegend\":false,\"x\":[0.5282332897186279,2.5282039642333984,2.5282039642333984,0.5282332897186279],\"y\":[0.36791992187499994,0.36791992187499994,5.828124999999999,5.828124999999999],\"type\":\"scatter\"},{\"fill\":\"toself\",\"name\":\"state_get_finger_data\",\"opacity\":0.3,\"showlegend\":false,\"x\":[2.5282039642333984,3.4022774696350098,3.4022774696350098,2.5282039642333984],\"y\":[0.36791992187499994,0.36791992187499994,5.828124999999999,5.828124999999999],\"type\":\"scatter\"},{\"fill\":\"toself\",\"name\":\"state_retract\",\"opacity\":0.3,\"showlegend\":false,\"x\":[3.4022774696350098,3.899667739868164,3.899667739868164,3.4022774696350098],\"y\":[0.36791992187499994,0.36791992187499994,5.828124999999999,5.828124999999999],\"type\":\"scatter\"},{\"fill\":\"toself\",\"name\":\"state_close_schnoz_gap\",\"opacity\":0.3,\"showlegend\":false,\"x\":[3.899667739868164,4.04777455329895,4.04777455329895,3.899667739868164],\"y\":[0.36791992187499994,0.36791992187499994,5.828124999999999,5.828124999999999],\"type\":\"scatter\"},{\"fill\":\"toself\",\"name\":\"state_wait_vac_start\",\"opacity\":0.3,\"showlegend\":false,\"x\":[4.04777455329895,6.728764057159424,6.728764057159424,4.04777455329895],\"y\":[0.36791992187499994,0.36791992187499994,5.828124999999999,5.828124999999999],\"type\":\"scatter\"},{\"fill\":\"toself\",\"name\":\"state_vac_pull\",\"opacity\":0.3,\"showlegend\":false,\"x\":[6.728764057159424,6.960143804550171,6.960143804550171,6.728764057159424],\"y\":[0.36791992187499994,0.36791992187499994,5.828124999999999,5.828124999999999],\"type\":\"scatter\"},{\"fill\":\"toself\",\"name\":\"state_wait_empty_fingers_settled\",\"opacity\":0.3,\"showlegend\":false,\"x\":[6.960143804550171,7.7150022983551025,7.7150022983551025,6.960143804550171],\"y\":[0.36791992187499994,0.36791992187499994,5.828124999999999,5.828124999999999],\"type\":\"scatter\"},{\"fill\":\"toself\",\"name\":\"state_exit_tray_zone\",\"opacity\":0.3,\"showlegend\":false,\"x\":[7.7150022983551025,7.73173713684082,7.73173713684082,7.7150022983551025],\"y\":[0.36791992187499994,0.36791992187499994,5.828124999999999,5.828124999999999],\"type\":\"scatter\"}],                        {\"template\":{\"data\":{\"histogram2dcontour\":[{\"type\":\"histogram2dcontour\",\"colorbar\":{\"outlinewidth\":0,\"ticks\":\"\"},\"colorscale\":[[0.0,\"#0d0887\"],[0.1111111111111111,\"#46039f\"],[0.2222222222222222,\"#7201a8\"],[0.3333333333333333,\"#9c179e\"],[0.4444444444444444,\"#bd3786\"],[0.5555555555555556,\"#d8576b\"],[0.6666666666666666,\"#ed7953\"],[0.7777777777777778,\"#fb9f3a\"],[0.8888888888888888,\"#fdca26\"],[1.0,\"#f0f921\"]]}],\"choropleth\":[{\"type\":\"choropleth\",\"colorbar\":{\"outlinewidth\":0,\"ticks\":\"\"}}],\"histogram2d\":[{\"type\":\"histogram2d\",\"colorbar\":{\"outlinewidth\":0,\"ticks\":\"\"},\"colorscale\":[[0.0,\"#0d0887\"],[0.1111111111111111,\"#46039f\"],[0.2222222222222222,\"#7201a8\"],[0.3333333333333333,\"#9c179e\"],[0.4444444444444444,\"#bd3786\"],[0.5555555555555556,\"#d8576b\"],[0.6666666666666666,\"#ed7953\"],[0.7777777777777778,\"#fb9f3a\"],[0.8888888888888888,\"#fdca26\"],[1.0,\"#f0f921\"]]}],\"heatmap\":[{\"type\":\"heatmap\",\"colorbar\":{\"outlinewidth\":0,\"ticks\":\"\"},\"colorscale\":[[0.0,\"#0d0887\"],[0.1111111111111111,\"#46039f\"],[0.2222222222222222,\"#7201a8\"],[0.3333333333333333,\"#9c179e\"],[0.4444444444444444,\"#bd3786\"],[0.5555555555555556,\"#d8576b\"],[0.6666666666666666,\"#ed7953\"],[0.7777777777777778,\"#fb9f3a\"],[0.8888888888888888,\"#fdca26\"],[1.0,\"#f0f921\"]]}],\"heatmapgl\":[{\"type\":\"heatmapgl\",\"colorbar\":{\"outlinewidth\":0,\"ticks\":\"\"},\"colorscale\":[[0.0,\"#0d0887\"],[0.1111111111111111,\"#46039f\"],[0.2222222222222222,\"#7201a8\"],[0.3333333333333333,\"#9c179e\"],[0.4444444444444444,\"#bd3786\"],[0.5555555555555556,\"#d8576b\"],[0.6666666666666666,\"#ed7953\"],[0.7777777777777778,\"#fb9f3a\"],[0.8888888888888888,\"#fdca26\"],[1.0,\"#f0f921\"]]}],\"contourcarpet\":[{\"type\":\"contourcarpet\",\"colorbar\":{\"outlinewidth\":0,\"ticks\":\"\"}}],\"contour\":[{\"type\":\"contour\",\"colorbar\":{\"outlinewidth\":0,\"ticks\":\"\"},\"colorscale\":[[0.0,\"#0d0887\"],[0.1111111111111111,\"#46039f\"],[0.2222222222222222,\"#7201a8\"],[0.3333333333333333,\"#9c179e\"],[0.4444444444444444,\"#bd3786\"],[0.5555555555555556,\"#d8576b\"],[0.6666666666666666,\"#ed7953\"],[0.7777777777777778,\"#fb9f3a\"],[0.8888888888888888,\"#fdca26\"],[1.0,\"#f0f921\"]]}],\"surface\":[{\"type\":\"surface\",\"colorbar\":{\"outlinewidth\":0,\"ticks\":\"\"},\"colorscale\":[[0.0,\"#0d0887\"],[0.1111111111111111,\"#46039f\"],[0.2222222222222222,\"#7201a8\"],[0.3333333333333333,\"#9c179e\"],[0.4444444444444444,\"#bd3786\"],[0.5555555555555556,\"#d8576b\"],[0.6666666666666666,\"#ed7953\"],[0.7777777777777778,\"#fb9f3a\"],[0.8888888888888888,\"#fdca26\"],[1.0,\"#f0f921\"]]}],\"mesh3d\":[{\"type\":\"mesh3d\",\"colorbar\":{\"outlinewidth\":0,\"ticks\":\"\"}}],\"scatter\":[{\"fillpattern\":{\"fillmode\":\"overlay\",\"size\":10,\"solidity\":0.2},\"type\":\"scatter\"}],\"parcoords\":[{\"type\":\"parcoords\",\"line\":{\"colorbar\":{\"outlinewidth\":0,\"ticks\":\"\"}}}],\"scatterpolargl\":[{\"type\":\"scatterpolargl\",\"marker\":{\"colorbar\":{\"outlinewidth\":0,\"ticks\":\"\"}}}],\"bar\":[{\"error_x\":{\"color\":\"#2a3f5f\"},\"error_y\":{\"color\":\"#2a3f5f\"},\"marker\":{\"line\":{\"color\":\"#E5ECF6\",\"width\":0.5},\"pattern\":{\"fillmode\":\"overlay\",\"size\":10,\"solidity\":0.2}},\"type\":\"bar\"}],\"scattergeo\":[{\"type\":\"scattergeo\",\"marker\":{\"colorbar\":{\"outlinewidth\":0,\"ticks\":\"\"}}}],\"scatterpolar\":[{\"type\":\"scatterpolar\",\"marker\":{\"colorbar\":{\"outlinewidth\":0,\"ticks\":\"\"}}}],\"histogram\":[{\"marker\":{\"pattern\":{\"fillmode\":\"overlay\",\"size\":10,\"solidity\":0.2}},\"type\":\"histogram\"}],\"scattergl\":[{\"type\":\"scattergl\",\"marker\":{\"colorbar\":{\"outlinewidth\":0,\"ticks\":\"\"}}}],\"scatter3d\":[{\"type\":\"scatter3d\",\"line\":{\"colorbar\":{\"outlinewidth\":0,\"ticks\":\"\"}},\"marker\":{\"colorbar\":{\"outlinewidth\":0,\"ticks\":\"\"}}}],\"scattermapbox\":[{\"type\":\"scattermapbox\",\"marker\":{\"colorbar\":{\"outlinewidth\":0,\"ticks\":\"\"}}}],\"scatterternary\":[{\"type\":\"scatterternary\",\"marker\":{\"colorbar\":{\"outlinewidth\":0,\"ticks\":\"\"}}}],\"scattercarpet\":[{\"type\":\"scattercarpet\",\"marker\":{\"colorbar\":{\"outlinewidth\":0,\"ticks\":\"\"}}}],\"carpet\":[{\"aaxis\":{\"endlinecolor\":\"#2a3f5f\",\"gridcolor\":\"white\",\"linecolor\":\"white\",\"minorgridcolor\":\"white\",\"startlinecolor\":\"#2a3f5f\"},\"baxis\":{\"endlinecolor\":\"#2a3f5f\",\"gridcolor\":\"white\",\"linecolor\":\"white\",\"minorgridcolor\":\"white\",\"startlinecolor\":\"#2a3f5f\"},\"type\":\"carpet\"}],\"table\":[{\"cells\":{\"fill\":{\"color\":\"#EBF0F8\"},\"line\":{\"color\":\"white\"}},\"header\":{\"fill\":{\"color\":\"#C8D4E3\"},\"line\":{\"color\":\"white\"}},\"type\":\"table\"}],\"barpolar\":[{\"marker\":{\"line\":{\"color\":\"#E5ECF6\",\"width\":0.5},\"pattern\":{\"fillmode\":\"overlay\",\"size\":10,\"solidity\":0.2}},\"type\":\"barpolar\"}],\"pie\":[{\"automargin\":true,\"type\":\"pie\"}]},\"layout\":{\"autotypenumbers\":\"strict\",\"colorway\":[\"#636efa\",\"#EF553B\",\"#00cc96\",\"#ab63fa\",\"#FFA15A\",\"#19d3f3\",\"#FF6692\",\"#B6E880\",\"#FF97FF\",\"#FECB52\"],\"font\":{\"color\":\"#2a3f5f\"},\"hovermode\":\"closest\",\"hoverlabel\":{\"align\":\"left\"},\"paper_bgcolor\":\"white\",\"plot_bgcolor\":\"#E5ECF6\",\"polar\":{\"bgcolor\":\"#E5ECF6\",\"angularaxis\":{\"gridcolor\":\"white\",\"linecolor\":\"white\",\"ticks\":\"\"},\"radialaxis\":{\"gridcolor\":\"white\",\"linecolor\":\"white\",\"ticks\":\"\"}},\"ternary\":{\"bgcolor\":\"#E5ECF6\",\"aaxis\":{\"gridcolor\":\"white\",\"linecolor\":\"white\",\"ticks\":\"\"},\"baxis\":{\"gridcolor\":\"white\",\"linecolor\":\"white\",\"ticks\":\"\"},\"caxis\":{\"gridcolor\":\"white\",\"linecolor\":\"white\",\"ticks\":\"\"}},\"coloraxis\":{\"colorbar\":{\"outlinewidth\":0,\"ticks\":\"\"}},\"colorscale\":{\"sequential\":[[0.0,\"#0d0887\"],[0.1111111111111111,\"#46039f\"],[0.2222222222222222,\"#7201a8\"],[0.3333333333333333,\"#9c179e\"],[0.4444444444444444,\"#bd3786\"],[0.5555555555555556,\"#d8576b\"],[0.6666666666666666,\"#ed7953\"],[0.7777777777777778,\"#fb9f3a\"],[0.8888888888888888,\"#fdca26\"],[1.0,\"#f0f921\"]],\"sequentialminus\":[[0.0,\"#0d0887\"],[0.1111111111111111,\"#46039f\"],[0.2222222222222222,\"#7201a8\"],[0.3333333333333333,\"#9c179e\"],[0.4444444444444444,\"#bd3786\"],[0.5555555555555556,\"#d8576b\"],[0.6666666666666666,\"#ed7953\"],[0.7777777777777778,\"#fb9f3a\"],[0.8888888888888888,\"#fdca26\"],[1.0,\"#f0f921\"]],\"diverging\":[[0,\"#8e0152\"],[0.1,\"#c51b7d\"],[0.2,\"#de77ae\"],[0.3,\"#f1b6da\"],[0.4,\"#fde0ef\"],[0.5,\"#f7f7f7\"],[0.6,\"#e6f5d0\"],[0.7,\"#b8e186\"],[0.8,\"#7fbc41\"],[0.9,\"#4d9221\"],[1,\"#276419\"]]},\"xaxis\":{\"gridcolor\":\"white\",\"linecolor\":\"white\",\"ticks\":\"\",\"title\":{\"standoff\":15},\"zerolinecolor\":\"white\",\"automargin\":true,\"zerolinewidth\":2},\"yaxis\":{\"gridcolor\":\"white\",\"linecolor\":\"white\",\"ticks\":\"\",\"title\":{\"standoff\":15},\"zerolinecolor\":\"white\",\"automargin\":true,\"zerolinewidth\":2},\"scene\":{\"xaxis\":{\"backgroundcolor\":\"#E5ECF6\",\"gridcolor\":\"white\",\"linecolor\":\"white\",\"showbackground\":true,\"ticks\":\"\",\"zerolinecolor\":\"white\",\"gridwidth\":2},\"yaxis\":{\"backgroundcolor\":\"#E5ECF6\",\"gridcolor\":\"white\",\"linecolor\":\"white\",\"showbackground\":true,\"ticks\":\"\",\"zerolinecolor\":\"white\",\"gridwidth\":2},\"zaxis\":{\"backgroundcolor\":\"#E5ECF6\",\"gridcolor\":\"white\",\"linecolor\":\"white\",\"showbackground\":true,\"ticks\":\"\",\"zerolinecolor\":\"white\",\"gridwidth\":2}},\"shapedefaults\":{\"line\":{\"color\":\"#2a3f5f\"}},\"annotationdefaults\":{\"arrowcolor\":\"#2a3f5f\",\"arrowhead\":0,\"arrowwidth\":1},\"geo\":{\"bgcolor\":\"white\",\"landcolor\":\"#E5ECF6\",\"subunitcolor\":\"white\",\"showland\":true,\"showlakes\":true,\"lakecolor\":\"white\"},\"title\":{\"x\":0.05},\"mapbox\":{\"style\":\"light\"}}}},                        {\"responsive\": true}                    ).then(function(){\n",
       "                            \n",
       "var gd = document.getElementById('eddbd65f-0b78-45a7-b877-14540aee2056');\n",
       "var x = new MutationObserver(function (mutations, observer) {{\n",
       "        var display = window.getComputedStyle(gd).display;\n",
       "        if (!display || display === 'none') {{\n",
       "            console.log([gd, 'removed!']);\n",
       "            Plotly.purge(gd);\n",
       "            observer.disconnect();\n",
       "        }}\n",
       "}});\n",
       "\n",
       "// Listen for the removal of the full notebook cells\n",
       "var notebookContainer = gd.closest('#notebook-container');\n",
       "if (notebookContainer) {{\n",
       "    x.observe(notebookContainer, {childList: true});\n",
       "}}\n",
       "\n",
       "// Listen for the clearing of the current output cell\n",
       "var outputEl = gd.closest('.output');\n",
       "if (outputEl) {{\n",
       "    x.observe(outputEl, {childList: true});\n",
       "}}\n",
       "\n",
       "                        })                };                });            </script>        </div>"
      ]
     },
     "metadata": {},
     "output_type": "display_data"
    }
   ],
   "source": [
    "import plotly.offline as pyo\n",
    "import plotly.graph_objects as go\n",
    "pyo.init_notebook_mode()\n",
    "\n",
    "t = [x[0] for k in sorted_series for x in k[2]]\n",
    "vac = [x[1]['vac'] for k in sorted_series for x in k[2]]\n",
    "touch = [x[1]['touch'] for k in sorted_series for x in k[2]]\n",
    "finger = [x[1]['finger'] for k in sorted_series for x in k[2]]\n",
    "\n",
    "\n",
    "fig=go.Figure()\n",
    "\n",
    "# fig.add_trace(\n",
    "#     go.Scatter(\n",
    "#         x=t,\n",
    "#         y=vac,\n",
    "#         name='Vacuum',\n",
    "#         line=dict(width=3),\n",
    "#     ),\n",
    "    \n",
    "# )\n",
    "\n",
    "fig.add_trace(\n",
    "    go.Scatter(\n",
    "        x=t,\n",
    "        y=touch,\n",
    "        name='Touch',\n",
    "        line=dict(width=3),\n",
    "    ),\n",
    "    \n",
    ")\n",
    "\n",
    "# for rect in rect_list:\n",
    "#     x0 = rect['x0']\n",
    "#     x1 = rect['x1']\n",
    "#     y0 = min_vac\n",
    "#     y1 = max_vac\n",
    "#     fig.add_trace(\n",
    "#         go.Scatter(\n",
    "#             x=[x0,x1, x1, x0],\n",
    "#             y=[y0,y0,y1,y1],\n",
    "#             fill='toself',\n",
    "#             showlegend=False,\n",
    "#             name=rect['state'],\n",
    "#             opacity=0.3,\n",
    "#         )\n",
    "#     )\n",
    "    \n",
    "for rect in rect_list:\n",
    "    x0 = rect['x0']\n",
    "    x1 = rect['x1']\n",
    "    y0 = min_touch\n",
    "    y1 = max_touch\n",
    "    fig.add_trace(\n",
    "        go.Scatter(\n",
    "            x=[x0,x1, x1, x0],\n",
    "            y=[y0,y0,y1,y1],\n",
    "            fill='toself',\n",
    "            showlegend=False,\n",
    "            name=rect['state'],\n",
    "            opacity=0.3,\n",
    "        )\n",
    "    )\n",
    "print(fig)\n",
    "fig.show()\n"
   ]
  },
  {
   "cell_type": "code",
   "execution_count": 10,
   "metadata": {},
   "outputs": [
    {
     "name": "stdout",
     "output_type": "stream",
     "text": [
      "<class 'module'>\n",
      "[0.0, 0.006159782409667969, 0.006492137908935547, 0.2306511402130127, 0.2348482608795166, 0.250978946685791, 0.5282332897186279, 0.6285545825958252, 0.7292888164520264, 2.5282039642333984, 2.6287426948547363, 2.7282938957214355, 3.4022774696350098, 3.4281022548675537, 3.5291218757629395, 3.899667739868164, 3.9285147190093994, 3.944502115249634, 4.04777455329895, 4.055134057998657, 4.072663068771362, 6.728764057159424, 6.828249216079712, 6.9286887645721436, 6.960143804550171, 6.9640820026397705, 6.965144157409668, 7.7150022983551025, 7.728471279144287, 7.73173713684082]\n",
      "[-35.3960911136108, -35.3960911136108, -35.83548931383577, -98.01033464566929, -98.01033464566929, -97.90048509561304, -98.01033464566929, -98.01033464566929, -98.01033464566929, -98.01033464566929, -97.90048509561304, -98.01033464566929, -98.01033464566929, -97.90048509561304, -98.01033464566929, -98.01033464566929, -98.01033464566929, -98.01033464566929, -29.354365860517436, -30.013463160854894, -30.892259561304837, -97.7906355455568, -97.68078599550056, -97.7906355455568, -97.7906355455568, -97.7906355455568, -98.01033464566929, -98.01033464566929, -98.01033464566929, -98.01033464566929]\n"
     ]
    }
   ],
   "source": [
    "import plotly.graph_objects as go\n",
    "print(type(go))\n",
    "\n",
    "t = [x[0] for k in sorted_series for x in k[2]]\n",
    "vac = [x[1]['vac'] for k in sorted_series for x in k[2]]\n",
    "\n",
    "print(t)\n",
    "print(vac)"
   ]
  },
  {
   "cell_type": "code",
   "execution_count": null,
   "metadata": {},
   "outputs": [],
   "source": []
  }
 ],
 "metadata": {
  "interpreter": {
   "hash": "09a094e41dcd35ed9bb774a375a2a25d86f6a4926610133a8572cc5759a5023e"
  },
  "kernelspec": {
   "display_name": "Python 3 (ipykernel)",
   "language": "python",
   "name": "python3"
  },
  "language_info": {
   "codemirror_mode": {
    "name": "ipython",
    "version": 3
   },
   "file_extension": ".py",
   "mimetype": "text/x-python",
   "name": "python",
   "nbconvert_exporter": "python",
   "pygments_lexer": "ipython3",
   "version": "3.10.6"
  }
 },
 "nbformat": 4,
 "nbformat_minor": 2
}
