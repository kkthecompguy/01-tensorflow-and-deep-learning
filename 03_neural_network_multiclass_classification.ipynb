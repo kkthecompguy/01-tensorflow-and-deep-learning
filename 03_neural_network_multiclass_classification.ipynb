{
  "nbformat": 4,
  "nbformat_minor": 0,
  "metadata": {
    "colab": {
      "provenance": [],
      "toc_visible": true
    },
    "kernelspec": {
      "name": "python3",
      "display_name": "Python 3"
    },
    "language_info": {
      "name": "python"
    }
  },
  "cells": [
    {
      "cell_type": "markdown",
      "source": [
        "# Working with a larger example (multiclass classification)\n",
        "\n",
        "When you have more than two classes as an option, it's know as **multi-class classification**\n",
        "* This means if you have 3 different classes, it's multi-class classification.\n",
        "* It also means if you have 100 different classes, it's multi-class classfication.\n",
        "\n",
        "To practice multi-class classification, we're going to build a neural network to classfiy images of different items of clothing."
      ],
      "metadata": {
        "id": "_yH0KTku9fH_"
      }
    },
    {
      "cell_type": "code",
      "source": [
        "import tensorflow as tf\n",
        "import pandas as pd\n",
        "import numpy as np\n"
      ],
      "metadata": {
        "id": "67zxZ38W9_PZ"
      },
      "execution_count": 2,
      "outputs": []
    },
    {
      "cell_type": "code",
      "source": [
        "# The data has already been sorted into training and test sets for us\n",
        "(train_data, train_labels), (test_data, test_labels) = tf.keras.datasets.fashion_mnist.load_data()"
      ],
      "metadata": {
        "colab": {
          "base_uri": "https://localhost:8080/"
        },
        "id": "DqyLD1i6-Smj",
        "outputId": "72b2cf2a-a68c-4d4a-c81c-06911f629d42"
      },
      "execution_count": 3,
      "outputs": [
        {
          "output_type": "stream",
          "name": "stdout",
          "text": [
            "Downloading data from https://storage.googleapis.com/tensorflow/tf-keras-datasets/train-labels-idx1-ubyte.gz\n",
            "29515/29515 [==============================] - 0s 0us/step\n",
            "Downloading data from https://storage.googleapis.com/tensorflow/tf-keras-datasets/train-images-idx3-ubyte.gz\n",
            "26421880/26421880 [==============================] - 0s 0us/step\n",
            "Downloading data from https://storage.googleapis.com/tensorflow/tf-keras-datasets/t10k-labels-idx1-ubyte.gz\n",
            "5148/5148 [==============================] - 0s 0us/step\n",
            "Downloading data from https://storage.googleapis.com/tensorflow/tf-keras-datasets/t10k-images-idx3-ubyte.gz\n",
            "4422102/4422102 [==============================] - 0s 0us/step\n"
          ]
        }
      ]
    },
    {
      "cell_type": "code",
      "source": [
        "# Show the first training example\n",
        "print(f\"Training sample:\\n {train_data[0]}\\n\")\n",
        "print(f\"Training label:\\n {train_labels[0]}\\n\")"
      ],
      "metadata": {
        "colab": {
          "base_uri": "https://localhost:8080/"
        },
        "id": "2n0e9OVy-tMY",
        "outputId": "3e28307e-93e6-4b3c-dbb1-0b17613c4b00"
      },
      "execution_count": 4,
      "outputs": [
        {
          "output_type": "stream",
          "name": "stdout",
          "text": [
            "Training sample:\n",
            " [[  0   0   0   0   0   0   0   0   0   0   0   0   0   0   0   0   0   0\n",
            "    0   0   0   0   0   0   0   0   0   0]\n",
            " [  0   0   0   0   0   0   0   0   0   0   0   0   0   0   0   0   0   0\n",
            "    0   0   0   0   0   0   0   0   0   0]\n",
            " [  0   0   0   0   0   0   0   0   0   0   0   0   0   0   0   0   0   0\n",
            "    0   0   0   0   0   0   0   0   0   0]\n",
            " [  0   0   0   0   0   0   0   0   0   0   0   0   1   0   0  13  73   0\n",
            "    0   1   4   0   0   0   0   1   1   0]\n",
            " [  0   0   0   0   0   0   0   0   0   0   0   0   3   0  36 136 127  62\n",
            "   54   0   0   0   1   3   4   0   0   3]\n",
            " [  0   0   0   0   0   0   0   0   0   0   0   0   6   0 102 204 176 134\n",
            "  144 123  23   0   0   0   0  12  10   0]\n",
            " [  0   0   0   0   0   0   0   0   0   0   0   0   0   0 155 236 207 178\n",
            "  107 156 161 109  64  23  77 130  72  15]\n",
            " [  0   0   0   0   0   0   0   0   0   0   0   1   0  69 207 223 218 216\n",
            "  216 163 127 121 122 146 141  88 172  66]\n",
            " [  0   0   0   0   0   0   0   0   0   1   1   1   0 200 232 232 233 229\n",
            "  223 223 215 213 164 127 123 196 229   0]\n",
            " [  0   0   0   0   0   0   0   0   0   0   0   0   0 183 225 216 223 228\n",
            "  235 227 224 222 224 221 223 245 173   0]\n",
            " [  0   0   0   0   0   0   0   0   0   0   0   0   0 193 228 218 213 198\n",
            "  180 212 210 211 213 223 220 243 202   0]\n",
            " [  0   0   0   0   0   0   0   0   0   1   3   0  12 219 220 212 218 192\n",
            "  169 227 208 218 224 212 226 197 209  52]\n",
            " [  0   0   0   0   0   0   0   0   0   0   6   0  99 244 222 220 218 203\n",
            "  198 221 215 213 222 220 245 119 167  56]\n",
            " [  0   0   0   0   0   0   0   0   0   4   0   0  55 236 228 230 228 240\n",
            "  232 213 218 223 234 217 217 209  92   0]\n",
            " [  0   0   1   4   6   7   2   0   0   0   0   0 237 226 217 223 222 219\n",
            "  222 221 216 223 229 215 218 255  77   0]\n",
            " [  0   3   0   0   0   0   0   0   0  62 145 204 228 207 213 221 218 208\n",
            "  211 218 224 223 219 215 224 244 159   0]\n",
            " [  0   0   0   0  18  44  82 107 189 228 220 222 217 226 200 205 211 230\n",
            "  224 234 176 188 250 248 233 238 215   0]\n",
            " [  0  57 187 208 224 221 224 208 204 214 208 209 200 159 245 193 206 223\n",
            "  255 255 221 234 221 211 220 232 246   0]\n",
            " [  3 202 228 224 221 211 211 214 205 205 205 220 240  80 150 255 229 221\n",
            "  188 154 191 210 204 209 222 228 225   0]\n",
            " [ 98 233 198 210 222 229 229 234 249 220 194 215 217 241  65  73 106 117\n",
            "  168 219 221 215 217 223 223 224 229  29]\n",
            " [ 75 204 212 204 193 205 211 225 216 185 197 206 198 213 240 195 227 245\n",
            "  239 223 218 212 209 222 220 221 230  67]\n",
            " [ 48 203 183 194 213 197 185 190 194 192 202 214 219 221 220 236 225 216\n",
            "  199 206 186 181 177 172 181 205 206 115]\n",
            " [  0 122 219 193 179 171 183 196 204 210 213 207 211 210 200 196 194 191\n",
            "  195 191 198 192 176 156 167 177 210  92]\n",
            " [  0   0  74 189 212 191 175 172 175 181 185 188 189 188 193 198 204 209\n",
            "  210 210 211 188 188 194 192 216 170   0]\n",
            " [  2   0   0   0  66 200 222 237 239 242 246 243 244 221 220 193 191 179\n",
            "  182 182 181 176 166 168  99  58   0   0]\n",
            " [  0   0   0   0   0   0   0  40  61  44  72  41  35   0   0   0   0   0\n",
            "    0   0   0   0   0   0   0   0   0   0]\n",
            " [  0   0   0   0   0   0   0   0   0   0   0   0   0   0   0   0   0   0\n",
            "    0   0   0   0   0   0   0   0   0   0]\n",
            " [  0   0   0   0   0   0   0   0   0   0   0   0   0   0   0   0   0   0\n",
            "    0   0   0   0   0   0   0   0   0   0]]\n",
            "\n",
            "Training label:\n",
            " 9\n",
            "\n"
          ]
        }
      ]
    },
    {
      "cell_type": "code",
      "source": [
        "# check the shape of a single example\n",
        "train_data[0].shape, train_labels[0].shape"
      ],
      "metadata": {
        "colab": {
          "base_uri": "https://localhost:8080/"
        },
        "id": "7o6gM6G--vR-",
        "outputId": "0a44b618-8424-4ab0-a547-52ff699d7912"
      },
      "execution_count": 5,
      "outputs": [
        {
          "output_type": "execute_result",
          "data": {
            "text/plain": [
              "((28, 28), ())"
            ]
          },
          "metadata": {},
          "execution_count": 5
        }
      ]
    },
    {
      "cell_type": "code",
      "source": [
        "# Plot a single sample\n",
        "import matplotlib.pyplot as plt\n",
        "plt.imshow(train_data[0]);"
      ],
      "metadata": {
        "colab": {
          "base_uri": "https://localhost:8080/",
          "height": 265
        },
        "id": "JBLmCwGO-y0m",
        "outputId": "4bba3ac2-e03c-43ae-b580-f99990867ebc"
      },
      "execution_count": 6,
      "outputs": [
        {
          "output_type": "display_data",
          "data": {
            "text/plain": [
              "<Figure size 432x288 with 1 Axes>"
            ],
            "image/png": "[encoded data removed]"
          },
          "metadata": {
            "needs_background": "light"
          }
        }
      ]
    },
    {
      "cell_type": "code",
      "source": [
        "# Check out another sample img and label\n",
        "plt.imshow(train_data[7]);\n",
        "\n",
        "train_labels[7]"
      ],
      "metadata": {
        "colab": {
          "base_uri": "https://localhost:8080/",
          "height": 282
        },
        "id": "RcOAu71f-1xY",
        "outputId": "9264d085-1bbd-442c-fbdc-09ac24f878b7"
      },
      "execution_count": 7,
      "outputs": [
        {
          "output_type": "execute_result",
          "data": {
            "text/plain": [
              "2"
            ]
          },
          "metadata": {},
          "execution_count": 7
        },
        {
          "output_type": "display_data",
          "data": {
            "text/plain": [
              "<Figure size 432x288 with 1 Axes>"
            ],
            "image/png": "[encoded data removed]"
          },
          "metadata": {
            "needs_background": "light"
          }
        }
      ]
    },
    {
      "cell_type": "code",
      "source": [
        "# Create a small list so we can index onto our training labelas so they are human-readable\n",
        "class_names = [\"T-shirt/top\", \"Trouser\", \"Pullover\", \"Dress\", \"Coat\", \"Sandal\", \"Shirt\", \"Sneaker\", \"Bag\", \"Ankle boot\"]\n",
        "\n",
        "len(class_names)"
      ],
      "metadata": {
        "colab": {
          "base_uri": "https://localhost:8080/"
        },
        "id": "eCRnXdP1-5JL",
        "outputId": "5f110021-2671-4dde-cb1b-05b022370aab"
      },
      "execution_count": 8,
      "outputs": [
        {
          "output_type": "execute_result",
          "data": {
            "text/plain": [
              "10"
            ]
          },
          "metadata": {},
          "execution_count": 8
        }
      ]
    },
    {
      "cell_type": "code",
      "source": [
        "# Plot an example images and its label\n",
        "index_of_choice = 2000\n",
        "plt.imshow(train_data[index_of_choice], cmap=plt.cm.binary)\n",
        "plt.title(class_names[train_labels[index_of_choice]])"
      ],
      "metadata": {
        "colab": {
          "base_uri": "https://localhost:8080/",
          "height": 298
        },
        "id": "ypYNAxq1-72f",
        "outputId": "042444ea-a162-4a5e-80c9-18569b5db56a"
      },
      "execution_count": 9,
      "outputs": [
        {
          "output_type": "execute_result",
          "data": {
            "text/plain": [
              "Text(0.5, 1.0, 'Coat')"
            ]
          },
          "metadata": {},
          "execution_count": 9
        },
        {
          "output_type": "display_data",
          "data": {
            "text/plain": [
              "<Figure size 432x288 with 1 Axes>"
            ],
            "image/png": "[encoded data removed]"
          },
          "metadata": {
            "needs_background": "light"
          }
        }
      ]
    },
    {
      "cell_type": "code",
      "source": [
        "# Plot multiple random images of fashion MNIST\n",
        "import random\n",
        "plt.figure(figsize=(7, 7))\n",
        "for i in range(4):\n",
        "  ax = plt.subplot(2,2, i+1)\n",
        "  rand_index = random.choice(range(len(train_data)))\n",
        "  plt.imshow(train_data[rand_index], cmap=plt.cm.binary)\n",
        "  plt.title(class_names[train_labels[rand_index]])\n",
        "  plt.axis(False);"
      ],
      "metadata": {
        "colab": {
          "base_uri": "https://localhost:8080/",
          "height": 427
        },
        "id": "Kt9S7snj_AHE",
        "outputId": "2cd0490b-b1d2-4704-972a-8442f8bf58c3"
      },
      "execution_count": 10,
      "outputs": [
        {
          "output_type": "display_data",
          "data": {
            "text/plain": [
              "<Figure size 504x504 with 4 Axes>"
            ],
            "image/png": "[encoded data removed]"
          },
          "metadata": {
            "needs_background": "light"
          }
        }
      ]
    },
    {
      "cell_type": "markdown",
      "source": [
        "## Building a multi-class classification model\n",
        "\n",
        "For our multi-class classificaton model, we can use a similar architecture to our binary classifiers, however, we're going to have to tweak a few things:\n",
        "* Input shape = 28 x 28 (the shape of one image)\n",
        "* Output shape = 10 (one per class of clothing)\n",
        "* Loss function = tf.keras.losses.CategoricalCrossentropy()\n",
        "  * If your labels are one-hot encoded use CategoricalCrossentropy()\n",
        "  * If your labels are integer form use SparseCategoricalCrossentropy()\n",
        "* Out layer activation = Softmax (not Sigmoid)"
      ],
      "metadata": {
        "id": "OtT55JP3_MbE"
      }
    },
    {
      "cell_type": "code",
      "source": [
        "# our data need to be flattened (from 28 * 28) to None, 784\n",
        "flatten_model = tf.keras.Sequential([\n",
        "    tf.keras.layers.Flatten(input_shape=(28,28))\n",
        "])\n",
        "\n",
        "flatten_model.output_shape"
      ],
      "metadata": {
        "colab": {
          "base_uri": "https://localhost:8080/"
        },
        "id": "6l94AAXbCNTK",
        "outputId": "7677b1cd-edb8-44a5-8a98-b39b470be9cd"
      },
      "execution_count": 11,
      "outputs": [
        {
          "output_type": "execute_result",
          "data": {
            "text/plain": [
              "(None, 784)"
            ]
          },
          "metadata": {},
          "execution_count": 11
        }
      ]
    },
    {
      "cell_type": "code",
      "source": [
        "28 * 28"
      ],
      "metadata": {
        "colab": {
          "base_uri": "https://localhost:8080/"
        },
        "id": "U4F1q7_hCgrt",
        "outputId": "f920ce59-8b00-4d0e-e41c-69da5a9bffa6"
      },
      "execution_count": 12,
      "outputs": [
        {
          "output_type": "execute_result",
          "data": {
            "text/plain": [
              "784"
            ]
          },
          "metadata": {},
          "execution_count": 12
        }
      ]
    },
    {
      "cell_type": "code",
      "source": [
        "tf.one_hot(train_labels[:10], depth=10)"
      ],
      "metadata": {
        "colab": {
          "base_uri": "https://localhost:8080/"
        },
        "id": "FoHv-TiyDLaw",
        "outputId": "098f3647-e71d-4d78-c471-ffce7f439b73"
      },
      "execution_count": 13,
      "outputs": [
        {
          "output_type": "execute_result",
          "data": {
            "text/plain": [
              "<tf.Tensor: shape=(10, 10), dtype=float32, numpy=\n",
              "array([[0., 0., 0., 0., 0., 0., 0., 0., 0., 1.],\n",
              "       [1., 0., 0., 0., 0., 0., 0., 0., 0., 0.],\n",
              "       [1., 0., 0., 0., 0., 0., 0., 0., 0., 0.],\n",
              "       [0., 0., 0., 1., 0., 0., 0., 0., 0., 0.],\n",
              "       [1., 0., 0., 0., 0., 0., 0., 0., 0., 0.],\n",
              "       [0., 0., 1., 0., 0., 0., 0., 0., 0., 0.],\n",
              "       [0., 0., 0., 0., 0., 0., 0., 1., 0., 0.],\n",
              "       [0., 0., 1., 0., 0., 0., 0., 0., 0., 0.],\n",
              "       [0., 0., 0., 0., 0., 1., 0., 0., 0., 0.],\n",
              "       [0., 0., 0., 0., 0., 1., 0., 0., 0., 0.]], dtype=float32)>"
            ]
          },
          "metadata": {},
          "execution_count": 13
        }
      ]
    },
    {
      "cell_type": "code",
      "source": [
        "# set the random seed\n",
        "tf.random.set_seed(42)\n",
        "\n",
        "# 1. create the model\n",
        "model = tf.keras.Sequential([\n",
        "    tf.keras.layers.Flatten(input_shape=(28,28)),\n",
        "    tf.keras.layers.Dense(4, activation=\"relu\"),\n",
        "    tf.keras.layers.Dense(4, activation=\"relu\"),\n",
        "    tf.keras.layers.Dense(10, activation=\"softmax\")\n",
        "])\n",
        "\n",
        "# 2. compile the model\n",
        "model.compile(\n",
        "    loss=tf.keras.losses.CategoricalCrossentropy(),\n",
        "    optimizer=tf.keras.optimizers.Adam(),\n",
        "    metrics=[\"accuracy\"]\n",
        ")\n",
        "\n",
        "# fit the model\n",
        "non_norm_histroy = model.fit(\n",
        "    train_data, \n",
        "    tf.one_hot(train_labels, depth=10), \n",
        "    epochs=10, \n",
        "    validation_data=(test_data, tf.one_hot(test_labels, depth=10))\n",
        ")"
      ],
      "metadata": {
        "colab": {
          "base_uri": "https://localhost:8080/"
        },
        "id": "zC1mPXdaASN2",
        "outputId": "1a319992-45f8-49fd-894a-bc4ce984db10"
      },
      "execution_count": 14,
      "outputs": [
        {
          "output_type": "stream",
          "name": "stdout",
          "text": [
            "Epoch 1/10\n",
            "1875/1875 [==============================] - 5s 2ms/step - loss: 2.3210 - accuracy: 0.1390 - val_loss: 2.1505 - val_accuracy: 0.1693\n",
            "Epoch 2/10\n",
            "1875/1875 [==============================] - 4s 2ms/step - loss: 2.0755 - accuracy: 0.1846 - val_loss: 1.9425 - val_accuracy: 0.2504\n",
            "Epoch 3/10\n",
            "1875/1875 [==============================] - 4s 2ms/step - loss: 1.6353 - accuracy: 0.3365 - val_loss: 1.5335 - val_accuracy: 0.3529\n",
            "Epoch 4/10\n",
            "1875/1875 [==============================] - 4s 2ms/step - loss: 1.4693 - accuracy: 0.3809 - val_loss: 1.4013 - val_accuracy: 0.4283\n",
            "Epoch 5/10\n",
            "1875/1875 [==============================] - 4s 2ms/step - loss: 1.3728 - accuracy: 0.4210 - val_loss: 1.3353 - val_accuracy: 0.4394\n",
            "Epoch 6/10\n",
            "1875/1875 [==============================] - 4s 2ms/step - loss: 1.3290 - accuracy: 0.4351 - val_loss: 1.3042 - val_accuracy: 0.4510\n",
            "Epoch 7/10\n",
            "1875/1875 [==============================] - 4s 2ms/step - loss: 1.2933 - accuracy: 0.4462 - val_loss: 1.2618 - val_accuracy: 0.4577\n",
            "Epoch 8/10\n",
            "1875/1875 [==============================] - 4s 2ms/step - loss: 1.2609 - accuracy: 0.4531 - val_loss: 1.2447 - val_accuracy: 0.4625\n",
            "Epoch 9/10\n",
            "1875/1875 [==============================] - 4s 2ms/step - loss: 1.2315 - accuracy: 0.4730 - val_loss: 1.1821 - val_accuracy: 0.5258\n",
            "Epoch 10/10\n",
            "1875/1875 [==============================] - 4s 2ms/step - loss: 1.0892 - accuracy: 0.5411 - val_loss: 1.1048 - val_accuracy: 0.5405\n"
          ]
        }
      ]
    },
    {
      "cell_type": "code",
      "source": [
        "# Check the model summary\n",
        "model.summary()"
      ],
      "metadata": {
        "colab": {
          "base_uri": "https://localhost:8080/"
        },
        "id": "BGSa6-SmBuUK",
        "outputId": "90e20789-6156-4e8e-93bd-e3f0b98fdfeb"
      },
      "execution_count": 15,
      "outputs": [
        {
          "output_type": "stream",
          "name": "stdout",
          "text": [
            "Model: \"sequential_1\"\n",
            "_________________________________________________________________\n",
            " Layer (type)                Output Shape              Param #   \n",
            "=================================================================\n",
            " flatten_1 (Flatten)         (None, 784)               0         \n",
            "                                                                 \n",
            " dense (Dense)               (None, 4)                 3140      \n",
            "                                                                 \n",
            " dense_1 (Dense)             (None, 4)                 20        \n",
            "                                                                 \n",
            " dense_2 (Dense)             (None, 10)                50        \n",
            "                                                                 \n",
            "=================================================================\n",
            "Total params: 3,210\n",
            "Trainable params: 3,210\n",
            "Non-trainable params: 0\n",
            "_________________________________________________________________\n"
          ]
        }
      ]
    },
    {
      "cell_type": "code",
      "source": [
        "# Chec the mean and max values of the training data\n",
        "train_data.min(), train_data.max()"
      ],
      "metadata": {
        "colab": {
          "base_uri": "https://localhost:8080/"
        },
        "id": "RPdNUj_dF04q",
        "outputId": "492d7ac1-168a-453f-c0fb-f910183e03e7"
      },
      "execution_count": 16,
      "outputs": [
        {
          "output_type": "execute_result",
          "data": {
            "text/plain": [
              "(0, 255)"
            ]
          },
          "metadata": {},
          "execution_count": 16
        }
      ]
    },
    {
      "cell_type": "markdown",
      "source": [
        "Neural networks prefer data to be scaled (or normalized), this means they like to have the number in the numbers in the tensors they try to find patterns between 0 & 1."
      ],
      "metadata": {
        "id": "_N5Sz-nWGWzE"
      }
    },
    {
      "cell_type": "code",
      "source": [
        "# We can get our training and testing data between 0 & 1 by dividing by the maximum\n",
        "train_data_norm = train_data / 255.0\n",
        "test_data_norm = test_data / 255.0\n",
        "\n",
        "# Chec the min and max values of the scaled training data\n",
        "train_data_norm.min(), train_data_norm.max()"
      ],
      "metadata": {
        "colab": {
          "base_uri": "https://localhost:8080/"
        },
        "id": "xbfANu6CG1xU",
        "outputId": "f7ac6d2f-615a-4b39-e978-2f49c26a02d3"
      },
      "execution_count": 17,
      "outputs": [
        {
          "output_type": "execute_result",
          "data": {
            "text/plain": [
              "(0.0, 1.0)"
            ]
          },
          "metadata": {},
          "execution_count": 17
        }
      ]
    },
    {
      "cell_type": "code",
      "source": [
        "# Now our data is normalized, let's build a model to find patterns in it\n",
        "\n",
        "# set the random seed\n",
        "tf.random.set_seed(42)\n",
        "\n",
        "# 1. create a model same as above\n",
        "model_2 = tf.keras.Sequential([\n",
        "    tf.keras.layers.Flatten(input_shape=(28,28)),\n",
        "    tf.keras.layers.Dense(4, activation=\"relu\"),\n",
        "    tf.keras.layers.Dense(4, activation=\"relu\"),\n",
        "    tf.keras.layers.Dense(10, activation=\"softmax\")\n",
        "])\n",
        "\n",
        "# 2. compile the model\n",
        "model_2.compile(\n",
        "    loss=tf.keras.losses.SparseCategoricalCrossentropy(),\n",
        "    optimizer=tf.keras.optimizers.Adam(),\n",
        "    metrics=[\"accuracy\"]\n",
        ")\n",
        "\n",
        "# fit the model\n",
        "norm_histroy = model_2.fit(\n",
        "    train_data_norm,\n",
        "    train_labels,\n",
        "    epochs=10,\n",
        "    validation_data=(test_data_norm, test_labels)\n",
        ")\n"
      ],
      "metadata": {
        "colab": {
          "base_uri": "https://localhost:8080/"
        },
        "id": "yPxdrcbhHhKl",
        "outputId": "b5d1d1da-e5b0-429b-d35f-7703c0fc2d88"
      },
      "execution_count": 18,
      "outputs": [
        {
          "output_type": "stream",
          "name": "stdout",
          "text": [
            "Epoch 1/10\n",
            "1875/1875 [==============================] - 5s 2ms/step - loss: 1.0224 - accuracy: 0.6027 - val_loss: 0.7135 - val_accuracy: 0.7432\n",
            "Epoch 2/10\n",
            "1875/1875 [==============================] - 4s 2ms/step - loss: 0.6522 - accuracy: 0.7573 - val_loss: 0.6468 - val_accuracy: 0.7572\n",
            "Epoch 3/10\n",
            "1875/1875 [==============================] - 4s 2ms/step - loss: 0.6024 - accuracy: 0.7778 - val_loss: 0.6084 - val_accuracy: 0.7872\n",
            "Epoch 4/10\n",
            "1875/1875 [==============================] - 4s 2ms/step - loss: 0.5626 - accuracy: 0.8019 - val_loss: 0.5779 - val_accuracy: 0.7987\n",
            "Epoch 5/10\n",
            "1875/1875 [==============================] - 6s 3ms/step - loss: 0.5419 - accuracy: 0.8097 - val_loss: 0.5703 - val_accuracy: 0.8017\n",
            "Epoch 6/10\n",
            "1875/1875 [==============================] - 4s 2ms/step - loss: 0.5315 - accuracy: 0.8150 - val_loss: 0.5686 - val_accuracy: 0.7998\n",
            "Epoch 7/10\n",
            "1875/1875 [==============================] - 4s 2ms/step - loss: 0.5232 - accuracy: 0.8169 - val_loss: 0.5552 - val_accuracy: 0.8083\n",
            "Epoch 8/10\n",
            "1875/1875 [==============================] - 4s 2ms/step - loss: 0.5172 - accuracy: 0.8196 - val_loss: 0.5506 - val_accuracy: 0.8066\n",
            "Epoch 9/10\n",
            "1875/1875 [==============================] - 4s 2ms/step - loss: 0.5120 - accuracy: 0.8224 - val_loss: 0.5612 - val_accuracy: 0.8061\n",
            "Epoch 10/10\n",
            "1875/1875 [==============================] - 4s 2ms/step - loss: 0.5101 - accuracy: 0.8227 - val_loss: 0.5444 - val_accuracy: 0.8110\n"
          ]
        }
      ]
    },
    {
      "cell_type": "markdown",
      "source": [
        "> 🔑 **Note:** Neural networks tend to prefer data in numerical form as well as scaled/normalized numbers (between 0 & 1)"
      ],
      "metadata": {
        "id": "rKsZCWWQL4TQ"
      }
    },
    {
      "cell_type": "code",
      "source": [
        "# Plot non-normalized data loss curves\n",
        "pd.DataFrame(non_norm_histroy.history).plot(title=\"Non-normalized data\")\n",
        "# Plot normalized data loss curves\n",
        "pd.DataFrame(norm_histroy.history).plot(title=\"Normalized data\")"
      ],
      "metadata": {
        "colab": {
          "base_uri": "https://localhost:8080/",
          "height": 562
        },
        "id": "Ta8JeicwJoKv",
        "outputId": "0ad5ff2d-413b-4022-d01c-80161037a090"
      },
      "execution_count": 19,
      "outputs": [
        {
          "output_type": "execute_result",
          "data": {
            "text/plain": [
              "<AxesSubplot:title={'center':'Normalized data'}>"
            ]
          },
          "metadata": {},
          "execution_count": 19
        },
        {
          "output_type": "display_data",
          "data": {
            "text/plain": [
              "<Figure size 432x288 with 1 Axes>"
            ],
            "image/png": "[encoded data removed]"
          },
          "metadata": {
            "needs_background": "light"
          }
        },
        {
          "output_type": "display_data",
          "data": {
            "text/plain": [
              "<Figure size 432x288 with 1 Axes>"
            ],
            "image/png": "[encoded data removed]"
          },
          "metadata": {
            "needs_background": "light"
          }
        }
      ]
    },
    {
      "cell_type": "markdown",
      "source": [
        "> 🔑 **Note:** The same model with even *slightly* different data can produce *dramatically* different results. So when you're comparing models, it's important to make sure you're comparing them on the same criteria (e.g same architecture but different data or same data bit different architecture)."
      ],
      "metadata": {
        "id": "uHIQgSDcK_rq"
      }
    },
    {
      "cell_type": "markdown",
      "source": [
        "## Finding the ideal learning rate"
      ],
      "metadata": {
        "id": "JZaQJvrALEuz"
      }
    },
    {
      "cell_type": "code",
      "source": [
        "# Set random seed\n",
        "tf.random.set_seed(42)\n",
        "\n",
        "# 1. create a model\n",
        "model_3 = tf.keras.Sequential([\n",
        "    tf.keras.layers.Flatten(input_shape=(28,28)),\n",
        "    tf.keras.layers.Dense(4, activation=\"relu\"),\n",
        "    tf.keras.layers.Dense(4, activation=\"relu\"),\n",
        "    tf.keras.layers.Dense(10, activation=\"softmax\")\n",
        "])\n",
        "\n",
        "# 2. compile the model\n",
        "model_3.compile(\n",
        "    loss=tf.keras.losses.SparseCategoricalCrossentropy(),\n",
        "    optimizer=tf.keras.optimizers.Adam(),\n",
        "    metrics=[\"accuracy\"]\n",
        ")\n",
        "\n",
        "# create the learning rate callback\n",
        "lr_scheduler = tf.keras.callbacks.LearningRateScheduler(\n",
        "    lambda epoch: 1e-3 * 10**(epoch/20)\n",
        ")\n",
        "\n",
        "# 3. fit the model\n",
        "find_lr_history = model_3.fit(\n",
        "    train_data_norm,\n",
        "    train_labels,\n",
        "    epochs=40,\n",
        "    validation_data=(test_data_norm, test_labels),\n",
        "    callbacks=[lr_scheduler]\n",
        ")"
      ],
      "metadata": {
        "colab": {
          "base_uri": "https://localhost:8080/"
        },
        "id": "PIlD3WpdOY9q",
        "outputId": "c66e6ca7-0f72-49c3-8b9f-1d1df6fad07c"
      },
      "execution_count": 20,
      "outputs": [
        {
          "output_type": "stream",
          "name": "stdout",
          "text": [
            "Epoch 1/40\n",
            "1875/1875 [==============================] - 5s 2ms/step - loss: 1.2172 - accuracy: 0.5214 - val_loss: 0.9207 - val_accuracy: 0.6540 - lr: 0.0010\n",
            "Epoch 2/40\n",
            "1875/1875 [==============================] - 4s 2ms/step - loss: 0.7960 - accuracy: 0.7176 - val_loss: 0.7620 - val_accuracy: 0.7354 - lr: 0.0011\n",
            "Epoch 3/40\n",
            "1875/1875 [==============================] - 4s 2ms/step - loss: 0.7202 - accuracy: 0.7437 - val_loss: 0.7124 - val_accuracy: 0.7499 - lr: 0.0013\n",
            "Epoch 4/40\n",
            "1875/1875 [==============================] - 4s 2ms/step - loss: 0.6824 - accuracy: 0.7536 - val_loss: 0.6905 - val_accuracy: 0.7561 - lr: 0.0014\n",
            "Epoch 5/40\n",
            "1875/1875 [==============================] - 4s 2ms/step - loss: 0.6596 - accuracy: 0.7598 - val_loss: 0.6676 - val_accuracy: 0.7622 - lr: 0.0016\n",
            "Epoch 6/40\n",
            "1875/1875 [==============================] - 4s 2ms/step - loss: 0.6443 - accuracy: 0.7654 - val_loss: 0.6682 - val_accuracy: 0.7651 - lr: 0.0018\n",
            "Epoch 7/40\n",
            "1875/1875 [==============================] - 4s 2ms/step - loss: 0.6340 - accuracy: 0.7688 - val_loss: 0.6607 - val_accuracy: 0.7651 - lr: 0.0020\n",
            "Epoch 8/40\n",
            "1875/1875 [==============================] - 4s 2ms/step - loss: 0.6234 - accuracy: 0.7741 - val_loss: 0.6445 - val_accuracy: 0.7738 - lr: 0.0022\n",
            "Epoch 9/40\n",
            "1875/1875 [==============================] - 4s 2ms/step - loss: 0.6137 - accuracy: 0.7851 - val_loss: 0.6548 - val_accuracy: 0.7777 - lr: 0.0025\n",
            "Epoch 10/40\n",
            "1875/1875 [==============================] - 4s 2ms/step - loss: 0.6089 - accuracy: 0.7885 - val_loss: 0.6264 - val_accuracy: 0.7836 - lr: 0.0028\n",
            "Epoch 11/40\n",
            "1875/1875 [==============================] - 4s 2ms/step - loss: 0.6038 - accuracy: 0.7906 - val_loss: 0.6343 - val_accuracy: 0.7856 - lr: 0.0032\n",
            "Epoch 12/40\n",
            "1875/1875 [==============================] - 4s 2ms/step - loss: 0.6009 - accuracy: 0.7917 - val_loss: 0.6337 - val_accuracy: 0.7890 - lr: 0.0035\n",
            "Epoch 13/40\n",
            "1875/1875 [==============================] - 4s 2ms/step - loss: 0.5968 - accuracy: 0.7940 - val_loss: 0.6120 - val_accuracy: 0.7954 - lr: 0.0040\n",
            "Epoch 14/40\n",
            "1875/1875 [==============================] - 4s 2ms/step - loss: 0.5948 - accuracy: 0.7943 - val_loss: 0.6212 - val_accuracy: 0.7853 - lr: 0.0045\n",
            "Epoch 15/40\n",
            "1875/1875 [==============================] - 4s 2ms/step - loss: 0.5971 - accuracy: 0.7945 - val_loss: 0.6263 - val_accuracy: 0.7869 - lr: 0.0050\n",
            "Epoch 16/40\n",
            "1875/1875 [==============================] - 4s 2ms/step - loss: 0.5983 - accuracy: 0.7927 - val_loss: 0.6208 - val_accuracy: 0.7918 - lr: 0.0056\n",
            "Epoch 17/40\n",
            "1875/1875 [==============================] - 4s 2ms/step - loss: 0.5975 - accuracy: 0.7935 - val_loss: 0.6257 - val_accuracy: 0.7896 - lr: 0.0063\n",
            "Epoch 18/40\n",
            "1875/1875 [==============================] - 4s 2ms/step - loss: 0.6014 - accuracy: 0.7936 - val_loss: 0.6343 - val_accuracy: 0.7813 - lr: 0.0071\n",
            "Epoch 19/40\n",
            "1875/1875 [==============================] - 4s 2ms/step - loss: 0.6024 - accuracy: 0.7912 - val_loss: 0.6204 - val_accuracy: 0.7908 - lr: 0.0079\n",
            "Epoch 20/40\n",
            "1875/1875 [==============================] - 4s 2ms/step - loss: 0.6043 - accuracy: 0.7910 - val_loss: 0.6281 - val_accuracy: 0.7858 - lr: 0.0089\n",
            "Epoch 21/40\n",
            "1875/1875 [==============================] - 4s 2ms/step - loss: 0.6086 - accuracy: 0.7897 - val_loss: 0.6691 - val_accuracy: 0.7706 - lr: 0.0100\n",
            "Epoch 22/40\n",
            "1875/1875 [==============================] - 4s 2ms/step - loss: 0.6163 - accuracy: 0.7869 - val_loss: 0.6339 - val_accuracy: 0.7893 - lr: 0.0112\n",
            "Epoch 23/40\n",
            "1875/1875 [==============================] - 4s 2ms/step - loss: 0.6205 - accuracy: 0.7842 - val_loss: 0.6978 - val_accuracy: 0.7591 - lr: 0.0126\n",
            "Epoch 24/40\n",
            "1875/1875 [==============================] - 4s 2ms/step - loss: 0.6281 - accuracy: 0.7822 - val_loss: 0.6629 - val_accuracy: 0.7844 - lr: 0.0141\n",
            "Epoch 25/40\n",
            "1875/1875 [==============================] - 4s 2ms/step - loss: 0.6323 - accuracy: 0.7776 - val_loss: 0.6778 - val_accuracy: 0.7643 - lr: 0.0158\n",
            "Epoch 26/40\n",
            "1875/1875 [==============================] - 4s 2ms/step - loss: 0.6489 - accuracy: 0.7729 - val_loss: 0.7776 - val_accuracy: 0.7384 - lr: 0.0178\n",
            "Epoch 27/40\n",
            "1875/1875 [==============================] - 4s 2ms/step - loss: 0.6497 - accuracy: 0.7717 - val_loss: 0.7001 - val_accuracy: 0.7561 - lr: 0.0200\n",
            "Epoch 28/40\n",
            "1875/1875 [==============================] - 4s 2ms/step - loss: 0.6679 - accuracy: 0.7650 - val_loss: 0.6894 - val_accuracy: 0.7642 - lr: 0.0224\n",
            "Epoch 29/40\n",
            "1875/1875 [==============================] - 4s 2ms/step - loss: 0.6758 - accuracy: 0.7617 - val_loss: 0.6924 - val_accuracy: 0.7825 - lr: 0.0251\n",
            "Epoch 30/40\n",
            "1875/1875 [==============================] - 5s 3ms/step - loss: 0.7089 - accuracy: 0.7442 - val_loss: 0.7093 - val_accuracy: 0.7527 - lr: 0.0282\n",
            "Epoch 31/40\n",
            "1875/1875 [==============================] - 4s 2ms/step - loss: 0.7264 - accuracy: 0.7321 - val_loss: 0.7462 - val_accuracy: 0.7002 - lr: 0.0316\n",
            "Epoch 32/40\n",
            "1875/1875 [==============================] - 4s 2ms/step - loss: 0.7449 - accuracy: 0.7170 - val_loss: 0.7182 - val_accuracy: 0.7209 - lr: 0.0355\n",
            "Epoch 33/40\n",
            "1875/1875 [==============================] - 4s 2ms/step - loss: 0.7684 - accuracy: 0.7046 - val_loss: 0.9679 - val_accuracy: 0.6794 - lr: 0.0398\n",
            "Epoch 34/40\n",
            "1875/1875 [==============================] - 4s 2ms/step - loss: 0.8003 - accuracy: 0.6955 - val_loss: 0.8114 - val_accuracy: 0.6764 - lr: 0.0447\n",
            "Epoch 35/40\n",
            "1875/1875 [==============================] - 4s 2ms/step - loss: 0.8300 - accuracy: 0.6882 - val_loss: 0.7988 - val_accuracy: 0.6874 - lr: 0.0501\n",
            "Epoch 36/40\n",
            "1875/1875 [==============================] - 4s 2ms/step - loss: 0.8537 - accuracy: 0.6834 - val_loss: 0.7630 - val_accuracy: 0.7172 - lr: 0.0562\n",
            "Epoch 37/40\n",
            "1875/1875 [==============================] - 4s 2ms/step - loss: 0.9242 - accuracy: 0.6589 - val_loss: 1.1566 - val_accuracy: 0.5821 - lr: 0.0631\n",
            "Epoch 38/40\n",
            "1875/1875 [==============================] - 6s 3ms/step - loss: 1.0202 - accuracy: 0.5816 - val_loss: 1.0683 - val_accuracy: 0.5826 - lr: 0.0708\n",
            "Epoch 39/40\n",
            "1875/1875 [==============================] - 8s 4ms/step - loss: 1.3082 - accuracy: 0.4436 - val_loss: 1.3502 - val_accuracy: 0.3670 - lr: 0.0794\n",
            "Epoch 40/40\n",
            "1875/1875 [==============================] - 7s 4ms/step - loss: 1.4389 - accuracy: 0.3273 - val_loss: 1.3840 - val_accuracy: 0.3559 - lr: 0.0891\n"
          ]
        }
      ]
    },
    {
      "cell_type": "code",
      "source": [
        "import matplotlib.pyplot as plt\n",
        "\n",
        "lrs = 1e-3 * (10**(tf.range(40)/20))\n",
        "plt.semilogx(lrs, find_lr_history.history[\"loss\"])\n",
        "plt.xlabel(\"Learning rate\")\n",
        "plt.ylabel(\"Loss\")\n",
        "plt.title(\"Finding the ideal learning rate\");"
      ],
      "metadata": {
        "colab": {
          "base_uri": "https://localhost:8080/",
          "height": 299
        },
        "id": "Eo6g6BEPVzms",
        "outputId": "39ef028c-be7b-452c-e338-c20cab52bd71"
      },
      "execution_count": 21,
      "outputs": [
        {
          "output_type": "display_data",
          "data": {
            "text/plain": [
              "<Figure size 432x288 with 1 Axes>"
            ],
            "image/png": "[encoded data removed]"
          },
          "metadata": {
            "needs_background": "light"
          }
        }
      ]
    },
    {
      "cell_type": "code",
      "source": [
        "# let's refit a model with the ideal learning rate\n",
        "\n",
        "# set random seed\n",
        "tf.random.set_seed(42)\n",
        "\n",
        "# create model\n",
        "model_4 = tf.keras.Sequential([\n",
        "    tf.keras.layers.Flatten(input_shape=(28,28)),\n",
        "    tf.keras.layers.Dense(4, activation=\"relu\"),\n",
        "    tf.keras.layers.Dense(4, activation=\"relu\"),\n",
        "    tf.keras.layers.Dense(10, activation=\"softmax\")\n",
        "])\n",
        "\n",
        "# comple the model\n",
        "model_4.compile(\n",
        "    loss=tf.keras.losses.SparseCategoricalCrossentropy(),\n",
        "    optimizer=tf.keras.optimizers.Adam(learning_rate=0.001),\n",
        "    metrics=[\"accuracy\"]\n",
        ")\n",
        "\n",
        "# fit the model\n",
        "history_4 = model_4.fit(\n",
        "    train_data_norm,\n",
        "    train_labels,\n",
        "    epochs=20,\n",
        "    validation_data=(test_data_norm, test_labels)\n",
        ")"
      ],
      "metadata": {
        "colab": {
          "base_uri": "https://localhost:8080/"
        },
        "id": "myzRWTCYXpqS",
        "outputId": "a5d3610e-e656-4089-d269-511140647177"
      },
      "execution_count": 22,
      "outputs": [
        {
          "output_type": "stream",
          "name": "stdout",
          "text": [
            "Epoch 1/20\n",
            "1875/1875 [==============================] - 5s 2ms/step - loss: 1.1268 - accuracy: 0.6136 - val_loss: 0.7242 - val_accuracy: 0.7771\n",
            "Epoch 2/20\n",
            "1875/1875 [==============================] - 4s 2ms/step - loss: 0.6384 - accuracy: 0.7959 - val_loss: 0.6269 - val_accuracy: 0.7917\n",
            "Epoch 3/20\n",
            "1875/1875 [==============================] - 5s 2ms/step - loss: 0.5671 - accuracy: 0.8103 - val_loss: 0.5889 - val_accuracy: 0.7973\n",
            "Epoch 4/20\n",
            "1875/1875 [==============================] - 3s 2ms/step - loss: 0.5370 - accuracy: 0.8178 - val_loss: 0.5520 - val_accuracy: 0.8125\n",
            "Epoch 5/20\n",
            "1875/1875 [==============================] - 4s 2ms/step - loss: 0.5198 - accuracy: 0.8221 - val_loss: 0.5555 - val_accuracy: 0.8089\n",
            "Epoch 6/20\n",
            "1875/1875 [==============================] - 4s 2ms/step - loss: 0.5064 - accuracy: 0.8258 - val_loss: 0.5482 - val_accuracy: 0.8110\n",
            "Epoch 7/20\n",
            "1875/1875 [==============================] - 4s 2ms/step - loss: 0.4990 - accuracy: 0.8286 - val_loss: 0.5475 - val_accuracy: 0.8123\n",
            "Epoch 8/20\n",
            "1875/1875 [==============================] - 4s 2ms/step - loss: 0.4918 - accuracy: 0.8316 - val_loss: 0.5305 - val_accuracy: 0.8178\n",
            "Epoch 9/20\n",
            "1875/1875 [==============================] - 4s 2ms/step - loss: 0.4874 - accuracy: 0.8325 - val_loss: 0.5262 - val_accuracy: 0.8159\n",
            "Epoch 10/20\n",
            "1875/1875 [==============================] - 4s 2ms/step - loss: 0.4835 - accuracy: 0.8343 - val_loss: 0.5247 - val_accuracy: 0.8170\n",
            "Epoch 11/20\n",
            "1875/1875 [==============================] - 4s 2ms/step - loss: 0.4815 - accuracy: 0.8328 - val_loss: 0.5193 - val_accuracy: 0.8183\n",
            "Epoch 12/20\n",
            "1875/1875 [==============================] - 4s 2ms/step - loss: 0.4773 - accuracy: 0.8345 - val_loss: 0.5203 - val_accuracy: 0.8188\n",
            "Epoch 13/20\n",
            "1875/1875 [==============================] - 4s 2ms/step - loss: 0.4749 - accuracy: 0.8360 - val_loss: 0.5140 - val_accuracy: 0.8245\n",
            "Epoch 14/20\n",
            "1875/1875 [==============================] - 4s 2ms/step - loss: 0.4726 - accuracy: 0.8364 - val_loss: 0.5158 - val_accuracy: 0.8225\n",
            "Epoch 15/20\n",
            "1875/1875 [==============================] - 4s 2ms/step - loss: 0.4710 - accuracy: 0.8368 - val_loss: 0.5127 - val_accuracy: 0.8234\n",
            "Epoch 16/20\n",
            "1875/1875 [==============================] - 6s 3ms/step - loss: 0.4687 - accuracy: 0.8381 - val_loss: 0.5135 - val_accuracy: 0.8214\n",
            "Epoch 17/20\n",
            "1875/1875 [==============================] - 4s 2ms/step - loss: 0.4669 - accuracy: 0.8375 - val_loss: 0.5083 - val_accuracy: 0.8253\n",
            "Epoch 18/20\n",
            "1875/1875 [==============================] - 4s 2ms/step - loss: 0.4663 - accuracy: 0.8375 - val_loss: 0.5085 - val_accuracy: 0.8247\n",
            "Epoch 19/20\n",
            "1875/1875 [==============================] - 4s 2ms/step - loss: 0.4651 - accuracy: 0.8370 - val_loss: 0.5206 - val_accuracy: 0.8181\n",
            "Epoch 20/20\n",
            "1875/1875 [==============================] - 4s 2ms/step - loss: 0.4638 - accuracy: 0.8382 - val_loss: 0.5189 - val_accuracy: 0.8219\n"
          ]
        }
      ]
    },
    {
      "cell_type": "markdown",
      "source": [
        "## Evaluating our multi-class classification model\n",
        "\n",
        "To evaluate our multi-class classification model we could:\n",
        "* Evaluate its performance using other classification metrics (such as a confusion matrix)\n",
        "* Asses some of its predictions (through visualizations)\n",
        "* Improve its results (by training it for longer or changing the architecture)\n",
        "* Save and export it for use in application\n",
        "\n",
        "Lets go thru the top 2..."
      ],
      "metadata": {
        "id": "cWOQvwKtpiCD"
      }
    },
    {
      "cell_type": "code",
      "source": [
        "# Let's create confusion matrix\n",
        "\n",
        "import itertools\n",
        "from sklearn.metrics import confusion_matrix\n",
        "\n",
        "\n",
        "def make_confusion_matrix(\n",
        "    y_true, y_pred, classes=None, figsize=(10,10), text_size=15\n",
        "):\n",
        "  # create the confusion matrix\n",
        "  cm = confusion_matrix(y_true, tf.round(y_pred))\n",
        "  cm_norm = cm.astype(\"float\") / cm.sum(axis=1)[:, np.newaxis] # normalize our confusion matrix\n",
        "  n_classes = cm.shape[0]\n",
        "\n",
        "  # Let's prettify it\n",
        "  fig, ax = plt.subplots(figsize=figsize)\n",
        "\n",
        "  # Create a matrix plot\n",
        "  cax = ax.matshow(cm, cmap=plt.cm.Blues)\n",
        "  fig.colorbar(cax)\n",
        "\n",
        "  # set labels to be classes\n",
        "  if classes:\n",
        "    labels = classes\n",
        "  else:\n",
        "    labels = np.arange(cm.shape[0])\n",
        "\n",
        "  # label the axes\n",
        "  ax.set(\n",
        "      title=\"Confusion Matrix\", \n",
        "      xlabel=\"Predicted Label\", \n",
        "      ylabel=\"True Label\", \n",
        "      xticks=np.arange(n_classes), \n",
        "      yticks=np.arange(n_classes),\n",
        "      xticklabels=labels,\n",
        "      yticklabels=labels\n",
        "  )\n",
        "\n",
        "  # Set x-axis labels to bottom\n",
        "  ax.xaxis.set_label_position(\"bottom\")\n",
        "  ax.xaxis.tick_bottom()\n",
        "\n",
        "  # Adjust label size\n",
        "  ax.yaxis.label.set_size(text_size)\n",
        "  ax.xaxis.label.set_size(text_size)\n",
        "  ax.title.set_size(text_size)\n",
        "\n",
        "  # set the threshold\n",
        "  threshold = (cm.max() + cm.min()) / 2.\n",
        "\n",
        "  # plot the text on each cell\n",
        "  for i, j in itertools.product(range(cm.shape[0]), range(cm.shape[1])):\n",
        "    plt.text(j, i, f\"{cm[i, j]} ({cm_norm[i, j]*100:.1f}%)\", \n",
        "            horizontalalignment=\"center\",\n",
        "            color=\"white\" if cm[i, j] > threshold else \"black\",\n",
        "            size=text_size)"
      ],
      "metadata": {
        "id": "ohEfTiyQsCTw"
      },
      "execution_count": 23,
      "outputs": []
    },
    {
      "cell_type": "code",
      "source": [
        "class_names"
      ],
      "metadata": {
        "colab": {
          "base_uri": "https://localhost:8080/"
        },
        "id": "5trcyELRthnj",
        "outputId": "ecd9c872-66b3-403d-b0f9-920afc267366"
      },
      "execution_count": 24,
      "outputs": [
        {
          "output_type": "execute_result",
          "data": {
            "text/plain": [
              "['T-shirt/top',\n",
              " 'Trouser',\n",
              " 'Pullover',\n",
              " 'Dress',\n",
              " 'Coat',\n",
              " 'Sandal',\n",
              " 'Shirt',\n",
              " 'Sneaker',\n",
              " 'Bag',\n",
              " 'Ankle boot']"
            ]
          },
          "metadata": {},
          "execution_count": 24
        }
      ]
    },
    {
      "cell_type": "code",
      "source": [
        "# Make some predictions with our model\n",
        "y_probs = model_4.predict(test_data_norm) # probs is short for \"prediction probabilities\"\n",
        "\n",
        "# view the first 5 predictions\n",
        "y_probs[:5]"
      ],
      "metadata": {
        "colab": {
          "base_uri": "https://localhost:8080/"
        },
        "id": "4ltHqfVTtj2r",
        "outputId": "c4f8f018-cce3-45ec-c601-0b6ba1565d21"
      },
      "execution_count": 27,
      "outputs": [
        {
          "output_type": "stream",
          "name": "stdout",
          "text": [
            "313/313 [==============================] - 0s 1ms/step\n"
          ]
        },
        {
          "output_type": "execute_result",
          "data": {
            "text/plain": [
              "array([[1.6699122e-08, 8.8210494e-15, 2.9029210e-11, 5.9730465e-09,\n",
              "        6.0850341e-10, 4.8266706e-01, 3.5512617e-08, 1.0091137e-01,\n",
              "        2.6448135e-04, 4.1615704e-01],\n",
              "       [3.5551504e-05, 1.9066806e-09, 9.2835677e-01, 1.7000502e-07,\n",
              "        3.5888121e-02, 1.0052762e-22, 3.5718966e-02, 0.0000000e+00,\n",
              "        3.5565847e-07, 0.0000000e+00],\n",
              "       [1.8024680e-03, 9.8476899e-01, 3.4072762e-03, 4.3064263e-03,\n",
              "        9.1878005e-04, 3.5740468e-03, 6.1643339e-04, 1.6656572e-04,\n",
              "        1.1574545e-04, 3.2318104e-04],\n",
              "       [1.8024680e-03, 9.8476899e-01, 3.4072762e-03, 4.3064263e-03,\n",
              "        9.1878005e-04, 3.5740468e-03, 6.1643339e-04, 1.6656572e-04,\n",
              "        1.1574545e-04, 3.2318104e-04],\n",
              "       [1.3590996e-01, 6.5669803e-05, 2.7546391e-01, 7.9522487e-03,\n",
              "        3.5178274e-02, 3.9583430e-09, 5.4091972e-01, 8.5276371e-16,\n",
              "        4.5101773e-03, 9.3104890e-24]], dtype=float32)"
            ]
          },
          "metadata": {},
          "execution_count": 27
        }
      ]
    },
    {
      "cell_type": "markdown",
      "source": [
        "> 🔑 **Note:** Remember to make predictions on the same kind of data your model was trained on (e.g if your model was trained on normalized data, you'll want to make predictions on normalized data)"
      ],
      "metadata": {
        "id": "gUmcqO9fuJnP"
      }
    },
    {
      "cell_type": "code",
      "source": [
        "y_probs[0], tf.argmax(y_probs[0]), class_names[tf.argmax(y_probs[0])]"
      ],
      "metadata": {
        "colab": {
          "base_uri": "https://localhost:8080/"
        },
        "id": "a28DqkYYusYe",
        "outputId": "2d552ba6-8c9f-4b24-f5c5-67f71d3a571d"
      },
      "execution_count": 28,
      "outputs": [
        {
          "output_type": "execute_result",
          "data": {
            "text/plain": [
              "(array([1.6699122e-08, 8.8210494e-15, 2.9029210e-11, 5.9730465e-09,\n",
              "        6.0850341e-10, 4.8266706e-01, 3.5512617e-08, 1.0091137e-01,\n",
              "        2.6448135e-04, 4.1615704e-01], dtype=float32),\n",
              " <tf.Tensor: shape=(), dtype=int64, numpy=5>,\n",
              " 'Sandal')"
            ]
          },
          "metadata": {},
          "execution_count": 28
        }
      ]
    },
    {
      "cell_type": "code",
      "source": [
        "# Convert all of the prediction probabilities into integers\n",
        "y_preds = y_probs.argmax(axis=1)\n",
        "\n",
        "# View the first 10 prediction labels\n",
        "y_preds[:10]"
      ],
      "metadata": {
        "colab": {
          "base_uri": "https://localhost:8080/"
        },
        "id": "XhhZs2n6wafP",
        "outputId": "4d1acb18-78bf-4282-f366-888d84fb2361"
      },
      "execution_count": 29,
      "outputs": [
        {
          "output_type": "execute_result",
          "data": {
            "text/plain": [
              "array([5, 2, 1, 1, 6, 1, 4, 6, 5, 7])"
            ]
          },
          "metadata": {},
          "execution_count": 29
        }
      ]
    },
    {
      "cell_type": "code",
      "source": [
        "test_labels[:5]"
      ],
      "metadata": {
        "colab": {
          "base_uri": "https://localhost:8080/"
        },
        "id": "Ige20TlcxIEi",
        "outputId": "3ff87836-3b00-4b53-d499-b87893025dc5"
      },
      "execution_count": 30,
      "outputs": [
        {
          "output_type": "execute_result",
          "data": {
            "text/plain": [
              "array([9, 2, 1, 1, 6], dtype=uint8)"
            ]
          },
          "metadata": {},
          "execution_count": 30
        }
      ]
    },
    {
      "cell_type": "code",
      "source": [
        "from sklearn.metrics import confusion_matrix\n",
        "confusion_matrix(y_true=test_labels, y_pred=y_preds)"
      ],
      "metadata": {
        "colab": {
          "base_uri": "https://localhost:8080/"
        },
        "id": "6IV7HsplxNih",
        "outputId": "e40012d9-637f-4d1d-9ea7-080b8466e728"
      },
      "execution_count": 31,
      "outputs": [
        {
          "output_type": "execute_result",
          "data": {
            "text/plain": [
              "array([[740,   8,  22,  64,   5,   3, 147,   0,  11,   0],\n",
              "       [  1, 961,   9,  23,   5,   0,   0,   0,   1,   0],\n",
              "       [ 19,   7, 715,   9, 172,   1,  74,   0,   3,   0],\n",
              "       [ 37,  28,  14, 813,  48,   2,  53,   2,   3,   0],\n",
              "       [  0,   3,  99,  21, 804,   0,  68,   0,   5,   0],\n",
              "       [  1,   0,   0,   2,   0, 925,   0,  32,  14,  26],\n",
              "       [121,   9, 127,  49, 151,   2, 533,   0,   8,   0],\n",
              "       [  0,   0,   0,   0,   0,  61,   0, 901,   0,  38],\n",
              "       [  6,   1,   4,   7,   4,   8,  48,   7, 915,   0],\n",
              "       [  0,   0,   0,   0,   0,  46,   0,  41,   1, 912]])"
            ]
          },
          "metadata": {},
          "execution_count": 31
        }
      ]
    },
    {
      "cell_type": "code",
      "source": [
        "# Make a prettier confusion matrix\n",
        "make_confusion_matrix(\n",
        "    y_true=test_labels,\n",
        "    y_pred=y_preds,\n",
        "    classes=class_names,\n",
        "    figsize=(15,15),\n",
        "    text_size=10\n",
        ")"
      ],
      "metadata": {
        "colab": {
          "base_uri": "https://localhost:8080/",
          "height": 852
        },
        "id": "3CSwxiggxtAM",
        "outputId": "1785aedf-1910-4f63-8841-111c197a62a4"
      },
      "execution_count": 32,
      "outputs": [
        {
          "output_type": "display_data",
          "data": {
            "text/plain": [
              "<Figure size 1080x1080 with 2 Axes>"
            ],
            "image/png": "[encoded data removed]"
          },
          "metadata": {
            "needs_background": "light"
          }
        }
      ]
    },
    {
      "cell_type": "markdown",
      "source": [
        "> 🔑 **Note:** Often when working with images and other forms of visual data, it's good idea to visualize as much as possible to develop a further understanding of the data and the inputs and outputs of your models\n",
        "\n",
        "How about we create a fun little function for:\n",
        "* Plot a random image\n",
        "* Make a prediction on said image\n",
        "* Label the plot with the truth label & the predicted label"
      ],
      "metadata": {
        "id": "dWrZTy9uyRIN"
      }
    },
    {
      "cell_type": "code",
      "source": [
        "import random\n",
        "\n",
        "def plot_random_image(model, images, true_labels, classes):\n",
        "  \"\"\"\n",
        "  Picks a random image, plots it and labels it with a prediction and truth \n",
        "  labels.\n",
        "  \"\"\"\n",
        "\n",
        "  # set up random integer\n",
        "  i = random.randint(0, len(images))\n",
        "\n",
        "  # create predictions and targets\n",
        "  target_image = images[i]\n",
        "  pred_probs = model.predict(target_image.reshape(1,28,28))\n",
        "  pred_label = classes[pred_probs.argmax()]\n",
        "  true_label = classes[true_labels[i]]\n",
        "\n",
        "  # Plot the image\n",
        "  plt.imshow(target_image, cmap=plt.cm.binary)\n",
        "\n",
        "  # change the color of the titles depending on if the prediction is right or wrong\n",
        "  if pred_label == true_label:\n",
        "    color= \"green\"\n",
        "  else:\n",
        "    color = \"red\"\n",
        "\n",
        "  # Add xlabel information (prediction/true label)\n",
        "  plt.xlabel(\"Pred: {} {:2.0f}% (True: {})\".format(\n",
        "      pred_label, 100*tf.reduce_max(pred_probs), true_label\n",
        "  ),\n",
        "      color=color\n",
        "  ) # set the color to green or red based on if prediction is right or wrong"
      ],
      "metadata": {
        "id": "_BJxOSir4yL0"
      },
      "execution_count": 35,
      "outputs": []
    },
    {
      "cell_type": "code",
      "source": [
        "# Check out a random image as well as its prediction\n",
        "plot_random_image(\n",
        "    model=model_4,\n",
        "    images=test_data_norm, # always make predictions on the same kind of data your model was trained on\n",
        "    true_labels=test_labels,\n",
        "    classes=class_names\n",
        ")"
      ],
      "metadata": {
        "colab": {
          "base_uri": "https://localhost:8080/",
          "height": 296
        },
        "id": "ccbLsYWg7kq3",
        "outputId": "c2dc20e5-f785-4acb-d5a8-5eb2fdb60d2c"
      },
      "execution_count": 52,
      "outputs": [
        {
          "output_type": "stream",
          "name": "stdout",
          "text": [
            "1/1 [==============================] - 0s 18ms/step\n"
          ]
        },
        {
          "output_type": "display_data",
          "data": {
            "text/plain": [
              "<Figure size 432x288 with 1 Axes>"
            ],
            "image/png": "[encoded data removed]"
          },
          "metadata": {
            "needs_background": "light"
          }
        }
      ]
    },
    {
      "cell_type": "markdown",
      "source": [
        "## What patterns is our model learning"
      ],
      "metadata": {
        "id": "LcGUP9aW8BuA"
      }
    },
    {
      "cell_type": "code",
      "source": [
        "# Find the layers of our most recent model\n",
        "model_4.layers"
      ],
      "metadata": {
        "colab": {
          "base_uri": "https://localhost:8080/"
        },
        "id": "-i9_wr9t9QMC",
        "outputId": "16e2ae7f-28e2-4ab6-a5f5-fbe88760d80e"
      },
      "execution_count": 53,
      "outputs": [
        {
          "output_type": "execute_result",
          "data": {
            "text/plain": [
              "[<keras.layers.reshaping.flatten.Flatten at 0x7fed10bb3f70>,\n",
              " <keras.layers.core.dense.Dense at 0x7feda331e9a0>,\n",
              " <keras.layers.core.dense.Dense at 0x7feda331ea90>,\n",
              " <keras.layers.core.dense.Dense at 0x7feda331e370>]"
            ]
          },
          "metadata": {},
          "execution_count": 53
        }
      ]
    },
    {
      "cell_type": "code",
      "source": [
        "# Extract a particular layer\n",
        "model_4.layers[1]"
      ],
      "metadata": {
        "colab": {
          "base_uri": "https://localhost:8080/"
        },
        "id": "7-LwBXuL9YhG",
        "outputId": "1c94f5a4-ce99-4bd9-d116-d497138d8bf0"
      },
      "execution_count": 55,
      "outputs": [
        {
          "output_type": "execute_result",
          "data": {
            "text/plain": [
              "<keras.layers.core.dense.Dense at 0x7feda331e9a0>"
            ]
          },
          "metadata": {},
          "execution_count": 55
        }
      ]
    },
    {
      "cell_type": "code",
      "source": [
        "# Get the patterns of a layers in our network\n",
        "weights, biases = model_4.layers[1].get_weights()\n",
        "\n",
        "# Shapes\n",
        "weights, weights.shape"
      ],
      "metadata": {
        "colab": {
          "base_uri": "https://localhost:8080/"
        },
        "id": "vSa7BP6V9gFg",
        "outputId": "eaf24809-fb2c-40a0-d248-ce3ca3b60b53"
      },
      "execution_count": 56,
      "outputs": [
        {
          "output_type": "execute_result",
          "data": {
            "text/plain": [
              "(array([[-0.5651009 ,  0.04927321, -0.8006367 ,  0.6122914 ],\n",
              "        [-0.57923144, -0.57548934, -0.4494155 ,  0.53427994],\n",
              "        [-1.091152  ,  0.16615258,  0.2748691 ,  0.0452157 ],\n",
              "        ...,\n",
              "        [-0.16172056,  0.12654468,  0.3139329 , -1.5224991 ],\n",
              "        [ 0.03970008, -0.4733874 , -0.6887459 , -0.8609179 ],\n",
              "        [-0.33435196, -0.35940135, -0.11257514, -0.5663596 ]],\n",
              "       dtype=float32), (784, 4))"
            ]
          },
          "metadata": {},
          "execution_count": 56
        }
      ]
    },
    {
      "cell_type": "code",
      "source": [
        "28 * 28"
      ],
      "metadata": {
        "colab": {
          "base_uri": "https://localhost:8080/"
        },
        "id": "cDO-vXXe94Ww",
        "outputId": "8eb00d21-c9c8-4cf4-a8ff-d2b0c7c4cb98"
      },
      "execution_count": 57,
      "outputs": [
        {
          "output_type": "execute_result",
          "data": {
            "text/plain": [
              "784"
            ]
          },
          "metadata": {},
          "execution_count": 57
        }
      ]
    },
    {
      "cell_type": "code",
      "source": [
        "model_4.summary()"
      ],
      "metadata": {
        "colab": {
          "base_uri": "https://localhost:8080/"
        },
        "id": "zKxmHjtJ-GTn",
        "outputId": "82dbf27e-7b6c-4f35-b3d5-f79c8a6bae11"
      },
      "execution_count": 58,
      "outputs": [
        {
          "output_type": "stream",
          "name": "stdout",
          "text": [
            "Model: \"sequential_4\"\n",
            "_________________________________________________________________\n",
            " Layer (type)                Output Shape              Param #   \n",
            "=================================================================\n",
            " flatten_4 (Flatten)         (None, 784)               0         \n",
            "                                                                 \n",
            " dense_9 (Dense)             (None, 4)                 3140      \n",
            "                                                                 \n",
            " dense_10 (Dense)            (None, 4)                 20        \n",
            "                                                                 \n",
            " dense_11 (Dense)            (None, 10)                50        \n",
            "                                                                 \n",
            "=================================================================\n",
            "Total params: 3,210\n",
            "Trainable params: 3,210\n",
            "Non-trainable params: 0\n",
            "_________________________________________________________________\n"
          ]
        }
      ]
    },
    {
      "cell_type": "markdown",
      "source": [
        "Now let's checkout the bias vector"
      ],
      "metadata": {
        "id": "zI9WwJ7g-IfG"
      }
    },
    {
      "cell_type": "code",
      "source": [
        "# Bias and biases shapes\n",
        "biases, biases.shape"
      ],
      "metadata": {
        "colab": {
          "base_uri": "https://localhost:8080/"
        },
        "id": "ZZqyzT5EDdyw",
        "outputId": "c7265a07-a83b-4b4f-eb34-61066e968c47"
      },
      "execution_count": 59,
      "outputs": [
        {
          "output_type": "execute_result",
          "data": {
            "text/plain": [
              "(array([1.7157588, 0.6719591, 2.0554624, 1.0563875], dtype=float32), (4,))"
            ]
          },
          "metadata": {},
          "execution_count": 59
        }
      ]
    },
    {
      "cell_type": "markdown",
      "source": [
        "Every neuron has a bias vector. Each of these is paired with a weights matrix.\n",
        "\n",
        "The bias vector get initialized as zeros (at least in the case of a TensorFlow Dense layer)\n",
        "\n",
        "The bias vector dictates how much the patterns within the corresponding weights matrix should influence the next layer."
      ],
      "metadata": {
        "id": "lm54RmqbD98p"
      }
    },
    {
      "cell_type": "code",
      "source": [
        "# Let's check out another way of viewing our deep learning models\n",
        "# See the inputs and outputs of each layer\n",
        "tf.keras.utils.plot_model(model_4, show_shapes=True)"
      ],
      "metadata": {
        "colab": {
          "base_uri": "https://localhost:8080/",
          "height": 533
        },
        "id": "kgnXmIHVDlZ3",
        "outputId": "b84f55fe-c393-4ed7-ad53-3c011b400b73"
      },
      "execution_count": 60,
      "outputs": [
        {
          "output_type": "execute_result",
          "data": {
            "image/png": "[encoded data removed]",
            "text/plain": [
              "<IPython.core.display.Image object>"
            ]
          },
          "metadata": {},
          "execution_count": 60
        }
      ]
    },
    {
      "cell_type": "code",
      "source": [
        "# Next che"
      ],
      "metadata": {
        "id": "2S52AlIWF_pM"
      },
      "execution_count": null,
      "outputs": []
    }
  ]
}