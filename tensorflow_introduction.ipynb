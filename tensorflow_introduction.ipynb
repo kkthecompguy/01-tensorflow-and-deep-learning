{
 "cells": [
  {
   "cell_type": "markdown",
   "id": "a9e96cab",
   "metadata": {},
   "source": [
    "## What is Tensorflow\n",
    "\n",
    "* End-to-end platform for machine learning\n",
    "* Write fast deep learning code in Python/other accessible languages (able to run a GPU/TPU)\n",
    "* Able to access many pre-builf deep learning models (TensorFlow Hub)\n",
    "* Whole stack: preprocess data, model data, deploy model in your application\n",
    "* Originally designed and used in-house by Google (now open-source)"
   ]
  },
  {
   "cell_type": "markdown",
   "id": "5b677e5d",
   "metadata": {},
   "source": [
    "## Why TensorFLow?\n",
    "\n",
    "#### Easy model building\n",
    "* Build and train ML models easily using intuitive high-level APIs like Keras with eager execution, which makes for immediate model iteration and easy debugging\n",
    "\n",
    "#### Robust ML production anywhere\n",
    "* Easily train and deploy models in the cloud, on-prem, in the browser, or on-device no matter what language you use\n",
    "\n",
    "#### Powerful experimentation for research\n",
    "* A simple and flexible architecture to take new ideas from concepts to code, to state-of-the-art and to publication faster"
   ]
  },
  {
   "cell_type": "markdown",
   "id": "25f55483",
   "metadata": {},
   "source": [
    "### What is a tensor?\n",
    "\n",
    "* Are numerical encodings that learn patterns thru neural networks"
   ]
  },
  {
   "cell_type": "markdown",
   "id": "c52fbe94",
   "metadata": {},
   "source": [
    "### What we are going to cover\n",
    "\n",
    "* TensorFlow basics & fundermentals\n",
    "* Preprocessing data (getting it into tensors)\n",
    "* Building and using pretrained deep learning models\n",
    "* Fitting a model to the data (learning patterns)\n",
    "* Making predictions with a model (using patterns)\n",
    "* Evaluating model predictions\n",
    "* Saving and loading models\n",
    "* Using a trained model to make predictions on custom data"
   ]
  },
  {
   "cell_type": "markdown",
   "id": "3cf6774a",
   "metadata": {},
   "source": [
    "### TensorFlow Workflow\n",
    "\n",
    "1. Get data ready (turn into tensors)\n",
    "2. Build or pick a pretrained model (to suit your problem)\n",
    "3. Fit the model to the data and make a prediction\n",
    "4. Evaluate the model\n",
    "5. Improve through experimentation\n",
    "6. Save and reload your trained model"
   ]
  },
  {
   "cell_type": "markdown",
   "id": "c8f76928",
   "metadata": {},
   "source": [
    "### How to approach this course\n",
    "* Write code (lots of it, follow along, let's make mistakes together)\n",
    "    * Motto #1 If in doubt, run the code\n",
    "* Explore & Experiment\n",
    "    * Motto #2 Experiment Experiment Experiment\n",
    "    * Motto #3 Visualize, visualize, visualize (recreate things in ways you can understand them)\n",
    "* Ask questions (including the dumb ones)🤔\n",
    "* Do the exercises (try them yourself before looking at the solutions) 🛠\n",
    "    * This course doesn't cover everything, if you want to learn more on something, look it up\n",
    "* Share your work\n",
    "* 🚫 Avoid\n",
    "    * Overthinking the process\n",
    "    * The \"I can't learn it\" mentality (that's bullsh*t)"
   ]
  },
  {
   "cell_type": "code",
   "execution_count": null,
   "id": "23ca6755",
   "metadata": {},
   "outputs": [],
   "source": []
  }
 ],
 "metadata": {
  "kernelspec": {
   "display_name": "Python 3 (ipykernel)",
   "language": "python",
   "name": "python3"
  },
  "language_info": {
   "codemirror_mode": {
    "name": "ipython",
    "version": 3
   },
   "file_extension": ".py",
   "mimetype": "text/x-python",
   "name": "python",
   "nbconvert_exporter": "python",
   "pygments_lexer": "ipython3",
   "version": "3.10.6"
  }
 },
 "nbformat": 4,
 "nbformat_minor": 5
}
