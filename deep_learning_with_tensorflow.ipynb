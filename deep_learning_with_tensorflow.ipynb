{
 "cells": [
  {
   "cell_type": "markdown",
   "id": "600e3b2d",
   "metadata": {},
   "source": [
    "## What is Deep Learning?\n",
    "\n",
    "a type of machine learning based on artificial neural networks in which multiple layers of processing are used to extract progressively higher level features from data."
   ]
  },
  {
   "cell_type": "markdown",
   "id": "4e4cb287",
   "metadata": {},
   "source": [
    "## Machine Learning Vs Deep Learning\n",
    "\n",
    "Deep learning is usually considered a subfield of Machine Learning.\n"
   ]
  },
  {
   "cell_type": "markdown",
   "id": "1f5193c9",
   "metadata": {},
   "source": [
    "## Why use Machine Learning (or Deep learning)?\n",
    "\n",
    "**Good reason:** Why not?  \n",
    "\n",
    "**Better reason:** For a complex problem, can you think of all the rules? -- probably not  \n",
    "\n",
    "\"I think you can use ML for literally anything as long as you can convert it into numbers and program it to find patterns. Literally it could be anything any inout or output from the universe\""
   ]
  },
  {
   "cell_type": "markdown",
   "id": "641213ac",
   "metadata": {},
   "source": [
    "### When not to use machine learning\n",
    "If you can build a simple rule-based system that doesn't require machine learning, do that (maybe not very simple)\n",
    "* A wise software engineer... (actually rule 1 of Google's Machine Learning Handbook)  \n",
    "\n",
    " 🧠 https://developers.google.com/machine-learning/guides/rules-of-ml"
   ]
  },
  {
   "cell_type": "markdown",
   "id": "fea68197",
   "metadata": {},
   "source": [
    "## What deep leaning is good for 🤖 ✅\n",
    "\n",
    "**Problems with long list of rules** - when the traditional approach fails, machine learning/deep learning may help  \n",
    "**Continually changing environments** - deep learning can adapt (\"learn\") to new scenarios.  \n",
    "**Discovering insights with large collections of data** - can you imagine trying to hand-craft rules for what 101 different kinds of food look like?  \n"
   ]
  },
  {
   "cell_type": "markdown",
   "id": "4e87943d",
   "metadata": {},
   "source": [
    "## What deep learning is not good for 🤖 🚫\n",
    "\n",
    "Typically  \n",
    "* **When you need explainability** - the patterns learned by a deep learning model are typically uninterpretable by a human.\n",
    "* **When the traditional approach is a better option** - If you can accomplish what you need with a simple rule-based system.  \n",
    "* **When errors are unacceptable** - since the ouputs of deep learning model aren't always predictable.\n",
    "* **When you don't have much data** - deep learning models usually require a faily large amount of data to produce greate results  \n",
    "\n",
    "\n",
    "* though we'll see how to get great results without huge amount of data"
   ]
  },
  {
   "cell_type": "markdown",
   "id": "002941f5",
   "metadata": {},
   "source": [
    "## Common algorithm - Machine Learning vs Deep Learning\n",
    "\n",
    "| Machine Learning | Deep Learning |\n",
    "| --- | --- |\n",
    "| Random Forest | Neural Networks |\n",
    "| Naive bayes | Fully Connected Neural Network |\n",
    "| Nearest neighbor | Convolutional Neural Network |\n",
    "| Support vector machine | Recurrent Neural Network |\n",
    "|  | Transformer |\n",
    "\n",
    "* since the advent of deep learning these (ML) are often referred to as \"shallow algorithms\"\n",
    "* ML algorithms better perform on **Structured data** while DL algorithm better perform on **Unstructured data**  \n",
    "* However depending how you represent your problem, many algorithms can be used for both"
   ]
  },
  {
   "cell_type": "markdown",
   "id": "60e5dd4a",
   "metadata": {},
   "source": [
    "## What are neural networks?\n",
    "\n",
    "Neural networks, also known as artificial neural networks (ANNs) or simulated neural networks (SNNs), are a subset of machine learning and are at the heart of deep learning algorithms.  \n",
    "\n",
    "* Before data gets used within a neural network, it needs to be turned into numbers (Numerical encoding)\n",
    "* Choose the appropriate neural newtork for your problem -- Learns representation (patterns/features/weights)\n",
    "* Returns a representation outputs"
   ]
  },
  {
   "cell_type": "markdown",
   "id": "62b623bb",
   "metadata": {},
   "source": [
    "## Anatomy of Neural Networks\n",
    "* Input layer (data goes in here)\n",
    "* Hidden layer(s) (learns pattern in data)\n",
    "* Output layer (outputs learned representaion or prediction probability)\n",
    "\n",
    "**Note** \"patterns\" is an arbitrary term, you'll often hear \"embedding\", \"weights\", \"feature representation\", \"feature vectors\" all referring to similar things"
   ]
  },
  {
   "cell_type": "markdown",
   "id": "fcb7a285",
   "metadata": {},
   "source": [
    "## Types of Learning\n",
    "* Supervised Learning  (often data & labels)\n",
    "* Semi-supervised Learning (often data and some labels)\n",
    "* Unsupervised Learning (just data)\n",
    "* Transfer Learning"
   ]
  },
  {
   "cell_type": "markdown",
   "id": "190516c4",
   "metadata": {},
   "source": [
    "## What is deep learning actually used for?\n",
    "\n",
    "I think you can use ML for literally anything as long as you can convert it into numbers and program it to find patterns. Literally it could be anything any inout or output from the universe\n",
    "\n",
    "### Some Deep learning Use cases\n",
    "* Recommendation\n",
    "* Translation\n",
    "* Speech recognition\n",
    "* Computer vision\n",
    "* Natural Language Processing (NLP)"
   ]
  },
  {
   "cell_type": "code",
   "execution_count": null,
   "id": "e67e0bd8",
   "metadata": {},
   "outputs": [],
   "source": []
  }
 ],
 "metadata": {
  "kernelspec": {
   "display_name": "Python 3 (ipykernel)",
   "language": "python",
   "name": "python3"
  },
  "language_info": {
   "codemirror_mode": {
    "name": "ipython",
    "version": 3
   },
   "file_extension": ".py",
   "mimetype": "text/x-python",
   "name": "python",
   "nbconvert_exporter": "python",
   "pygments_lexer": "ipython3",
   "version": "3.10.6"
  }
 },
 "nbformat": 4,
 "nbformat_minor": 5
}
